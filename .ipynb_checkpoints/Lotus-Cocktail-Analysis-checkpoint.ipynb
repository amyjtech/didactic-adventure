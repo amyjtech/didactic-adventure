{
 "cells": [
  {
   "cell_type": "code",
   "execution_count": 122,
   "id": "0461cccb",
   "metadata": {},
   "outputs": [],
   "source": [
    "import pandas as pd\n",
    "import matplotlib.pyplot as plt"
   ]
  },
  {
   "cell_type": "code",
   "execution_count": null,
   "id": "c35bfd9e",
   "metadata": {},
   "outputs": [],
   "source": [
    "# 2015-2019 Census Data\n",
    "census = pd.read_csv('Google-Data/data-M1iMr.csv')"
   ]
  },
  {
   "cell_type": "code",
   "execution_count": 62,
   "id": "dc6fa248",
   "metadata": {},
   "outputs": [],
   "source": [
    "# Read in CSV Files\n",
    "appletini = pd.read_csv('Google-Data/appletini.csv')\n",
    "mango_m = pd.read_csv('Google-Data/mango-marg.csv')\n",
    "water_m = pd.read_csv('Google-Data/water-marg.csv')\n",
    "pina = pd.read_csv('Google-Data/pina.csv')\n",
    "cosmo = pd.read_csv('Google-Data/cosmo.csv')\n",
    "straw_d = pd.read_csv('Google-Data/straw-d.csv')\n",
    "blue_h = pd.read_csv('Google-Data/blue-hawaii.csv')\n",
    "sea_b = pd.read_csv('Google-Data/sea-breeze.csv')\n",
    "sob = pd.read_csv('Google-Data/sob.csv')\n",
    "peach_b = pd.read_csv('Google-Data/peach-b.csv')\n",
    "mimosa = pd.read_csv('Google-Data/mimosa.csv')\n",
    "rose = pd.read_csv('Google-Data/rose.csv')\n",
    "hurricane = pd.read_csv('Google-Data/hurricane.csv')"
   ]
  },
  {
   "cell_type": "code",
   "execution_count": 78,
   "id": "ad2d7a44",
   "metadata": {},
   "outputs": [],
   "source": [
    "# Read in geo-map CSV Files\n",
    "appletini_g = pd.read_csv('Google-Data/appletini-geo.csv')\n",
    "mango_m_g = pd.read_csv('Google-Data/mango-marg-geo.csv')\n",
    "water_m_g = pd.read_csv('Google-Data/water-marg-geo.csv')\n",
    "pina_g = pd.read_csv('Google-Data/pina-geo.csv')\n",
    "cosmo_g = pd.read_csv('Google-Data/cosmo-geo.csv')\n",
    "straw_d_g = pd.read_csv('Google-Data/straw-d-geo.csv')\n",
    "blue_h_g = pd.read_csv('Google-Data/blue-hawaii-geo.csv')\n",
    "sea_b_g = pd.read_csv('Google-Data/sea-breeze-geo.csv')\n",
    "sob_g = pd.read_csv('Google-Data/sob-geo.csv')\n",
    "peach_b_g = pd.read_csv('Google-Data/peach-b-geo.csv')\n",
    "mimosa_g = pd.read_csv('Google-Data/mimosa-geo.csv')\n",
    "rose_g = pd.read_csv('Google-Data/rose-geo.csv')\n",
    "hurricane_g = pd.read_csv('Google-Data/hurricane-geo.csv')"
   ]
  },
  {
   "cell_type": "markdown",
   "id": "2dddea65",
   "metadata": {},
   "source": [
    " "
   ]
  },
  {
   "cell_type": "markdown",
   "id": "c7e4b2de",
   "metadata": {},
   "source": [
    " "
   ]
  },
  {
   "cell_type": "markdown",
   "id": "d0b3f30d",
   "metadata": {},
   "source": [
    " "
   ]
  },
  {
   "cell_type": "markdown",
   "id": "17efc3f9",
   "metadata": {},
   "source": [
    " "
   ]
  },
  {
   "cell_type": "markdown",
   "id": "d20034f8",
   "metadata": {},
   "source": [
    "### Using Google Search trend data from past 12 months to document popularity of cocktails overall, and by region."
   ]
  },
  {
   "cell_type": "markdown",
   "id": "2c8fdb8e",
   "metadata": {},
   "source": [
    "## Appletini"
   ]
  },
  {
   "cell_type": "code",
   "execution_count": 64,
   "id": "f5545533",
   "metadata": {},
   "outputs": [
    {
     "data": {
      "text/plain": [
       "3380"
      ]
     },
     "execution_count": 64,
     "metadata": {},
     "output_type": "execute_result"
    }
   ],
   "source": [
    "apple_count = appletini['Appletini'].sum()\n",
    "apple_count"
   ]
  },
  {
   "cell_type": "code",
   "execution_count": 106,
   "id": "df0d7723",
   "metadata": {},
   "outputs": [
    {
     "data": {
      "text/html": [
       "<div>\n",
       "<style scoped>\n",
       "    .dataframe tbody tr th:only-of-type {\n",
       "        vertical-align: middle;\n",
       "    }\n",
       "\n",
       "    .dataframe tbody tr th {\n",
       "        vertical-align: top;\n",
       "    }\n",
       "\n",
       "    .dataframe thead th {\n",
       "        text-align: right;\n",
       "    }\n",
       "</style>\n",
       "<table border=\"1\" class=\"dataframe\">\n",
       "  <thead>\n",
       "    <tr style=\"text-align: right;\">\n",
       "      <th></th>\n",
       "      <th>Region</th>\n",
       "      <th>appletini</th>\n",
       "    </tr>\n",
       "  </thead>\n",
       "  <tbody>\n",
       "    <tr>\n",
       "      <th>0</th>\n",
       "      <td>Washington</td>\n",
       "      <td>100.0</td>\n",
       "    </tr>\n",
       "    <tr>\n",
       "      <th>1</th>\n",
       "      <td>District of Columbia</td>\n",
       "      <td>95.0</td>\n",
       "    </tr>\n",
       "    <tr>\n",
       "      <th>2</th>\n",
       "      <td>Minnesota</td>\n",
       "      <td>91.0</td>\n",
       "    </tr>\n",
       "  </tbody>\n",
       "</table>\n",
       "</div>"
      ],
      "text/plain": [
       "                 Region  appletini\n",
       "0            Washington      100.0\n",
       "1  District of Columbia       95.0\n",
       "2             Minnesota       91.0"
      ]
     },
     "execution_count": 106,
     "metadata": {},
     "output_type": "execute_result"
    }
   ],
   "source": [
    "appletini_g = appletini_g.dropna()\n",
    "appletini_g.head(3)"
   ]
  },
  {
   "cell_type": "markdown",
   "id": "04ec451e",
   "metadata": {},
   "source": [
    "## Mango Margarita"
   ]
  },
  {
   "cell_type": "code",
   "execution_count": 13,
   "id": "e1c2e9bf",
   "metadata": {},
   "outputs": [
    {
     "data": {
      "text/plain": [
       "1720"
      ]
     },
     "execution_count": 13,
     "metadata": {},
     "output_type": "execute_result"
    }
   ],
   "source": [
    "mango_m_count = mango_m['mango marg'].sum()\n",
    "mango_m_count"
   ]
  },
  {
   "cell_type": "code",
   "execution_count": 108,
   "id": "d84e19ae",
   "metadata": {},
   "outputs": [
    {
     "data": {
      "text/html": [
       "<div>\n",
       "<style scoped>\n",
       "    .dataframe tbody tr th:only-of-type {\n",
       "        vertical-align: middle;\n",
       "    }\n",
       "\n",
       "    .dataframe tbody tr th {\n",
       "        vertical-align: top;\n",
       "    }\n",
       "\n",
       "    .dataframe thead th {\n",
       "        text-align: right;\n",
       "    }\n",
       "</style>\n",
       "<table border=\"1\" class=\"dataframe\">\n",
       "  <thead>\n",
       "    <tr style=\"text-align: right;\">\n",
       "      <th></th>\n",
       "      <th>Region</th>\n",
       "      <th>Mango margarita</th>\n",
       "    </tr>\n",
       "  </thead>\n",
       "  <tbody>\n",
       "    <tr>\n",
       "      <th>0</th>\n",
       "      <td>Arizona</td>\n",
       "      <td>100.0</td>\n",
       "    </tr>\n",
       "    <tr>\n",
       "      <th>1</th>\n",
       "      <td>Florida</td>\n",
       "      <td>94.0</td>\n",
       "    </tr>\n",
       "    <tr>\n",
       "      <th>2</th>\n",
       "      <td>Arkansas</td>\n",
       "      <td>84.0</td>\n",
       "    </tr>\n",
       "  </tbody>\n",
       "</table>\n",
       "</div>"
      ],
      "text/plain": [
       "     Region  Mango margarita\n",
       "0   Arizona            100.0\n",
       "1   Florida             94.0\n",
       "2  Arkansas             84.0"
      ]
     },
     "execution_count": 108,
     "metadata": {},
     "output_type": "execute_result"
    }
   ],
   "source": [
    "mango_m_g = mango_m_g.dropna()\n",
    "mango_m_g.head(3)"
   ]
  },
  {
   "cell_type": "markdown",
   "id": "29dea559",
   "metadata": {},
   "source": [
    "## Watermelon Margarita"
   ]
  },
  {
   "cell_type": "code",
   "execution_count": 17,
   "id": "eb5f7827",
   "metadata": {},
   "outputs": [
    {
     "data": {
      "text/plain": [
       "999"
      ]
     },
     "execution_count": 17,
     "metadata": {},
     "output_type": "execute_result"
    }
   ],
   "source": [
    "water_m_count = water_m['watermelon marg'].sum()\n",
    "water_m_count"
   ]
  },
  {
   "cell_type": "code",
   "execution_count": 109,
   "id": "2867efa9",
   "metadata": {},
   "outputs": [
    {
     "data": {
      "text/html": [
       "<div>\n",
       "<style scoped>\n",
       "    .dataframe tbody tr th:only-of-type {\n",
       "        vertical-align: middle;\n",
       "    }\n",
       "\n",
       "    .dataframe tbody tr th {\n",
       "        vertical-align: top;\n",
       "    }\n",
       "\n",
       "    .dataframe thead th {\n",
       "        text-align: right;\n",
       "    }\n",
       "</style>\n",
       "<table border=\"1\" class=\"dataframe\">\n",
       "  <thead>\n",
       "    <tr style=\"text-align: right;\">\n",
       "      <th></th>\n",
       "      <th>Region</th>\n",
       "      <th>watermelon marg</th>\n",
       "    </tr>\n",
       "  </thead>\n",
       "  <tbody>\n",
       "    <tr>\n",
       "      <th>0</th>\n",
       "      <td>District of Columbia</td>\n",
       "      <td>100.0</td>\n",
       "    </tr>\n",
       "    <tr>\n",
       "      <th>1</th>\n",
       "      <td>Rhode Island</td>\n",
       "      <td>96.0</td>\n",
       "    </tr>\n",
       "    <tr>\n",
       "      <th>2</th>\n",
       "      <td>Maine</td>\n",
       "      <td>87.0</td>\n",
       "    </tr>\n",
       "  </tbody>\n",
       "</table>\n",
       "</div>"
      ],
      "text/plain": [
       "                 Region  watermelon marg\n",
       "0  District of Columbia            100.0\n",
       "1          Rhode Island             96.0\n",
       "2                 Maine             87.0"
      ]
     },
     "execution_count": 109,
     "metadata": {},
     "output_type": "execute_result"
    }
   ],
   "source": [
    "water_m_g = water_m_g.dropna()\n",
    "water_m_g.head(3)"
   ]
  },
  {
   "cell_type": "markdown",
   "id": "77dcec2a",
   "metadata": {},
   "source": [
    "## Piña Colada"
   ]
  },
  {
   "cell_type": "code",
   "execution_count": 21,
   "id": "6dc8d860",
   "metadata": {
    "scrolled": true
   },
   "outputs": [
    {
     "data": {
      "text/plain": [
       "2498"
      ]
     },
     "execution_count": 21,
     "metadata": {},
     "output_type": "execute_result"
    }
   ],
   "source": [
    "pina_count = pina['pina colada'].sum()\n",
    "pina_count"
   ]
  },
  {
   "cell_type": "code",
   "execution_count": 110,
   "id": "817f1767",
   "metadata": {},
   "outputs": [
    {
     "data": {
      "text/html": [
       "<div>\n",
       "<style scoped>\n",
       "    .dataframe tbody tr th:only-of-type {\n",
       "        vertical-align: middle;\n",
       "    }\n",
       "\n",
       "    .dataframe tbody tr th {\n",
       "        vertical-align: top;\n",
       "    }\n",
       "\n",
       "    .dataframe thead th {\n",
       "        text-align: right;\n",
       "    }\n",
       "</style>\n",
       "<table border=\"1\" class=\"dataframe\">\n",
       "  <thead>\n",
       "    <tr style=\"text-align: right;\">\n",
       "      <th></th>\n",
       "      <th>Region</th>\n",
       "      <th>pina</th>\n",
       "    </tr>\n",
       "  </thead>\n",
       "  <tbody>\n",
       "    <tr>\n",
       "      <th>0</th>\n",
       "      <td>Hawaii</td>\n",
       "      <td>100</td>\n",
       "    </tr>\n",
       "    <tr>\n",
       "      <th>1</th>\n",
       "      <td>Florida</td>\n",
       "      <td>53</td>\n",
       "    </tr>\n",
       "    <tr>\n",
       "      <th>2</th>\n",
       "      <td>Utah</td>\n",
       "      <td>41</td>\n",
       "    </tr>\n",
       "  </tbody>\n",
       "</table>\n",
       "</div>"
      ],
      "text/plain": [
       "    Region  pina\n",
       "0   Hawaii   100\n",
       "1  Florida    53\n",
       "2     Utah    41"
      ]
     },
     "execution_count": 110,
     "metadata": {},
     "output_type": "execute_result"
    }
   ],
   "source": [
    "pina_g = pina_g.dropna()\n",
    "pina_g.head(3)"
   ]
  },
  {
   "cell_type": "markdown",
   "id": "8155ec92",
   "metadata": {},
   "source": [
    "## Cosmo"
   ]
  },
  {
   "cell_type": "code",
   "execution_count": 23,
   "id": "2d7c13a1",
   "metadata": {
    "scrolled": true
   },
   "outputs": [
    {
     "data": {
      "text/plain": [
       "4019"
      ]
     },
     "execution_count": 23,
     "metadata": {},
     "output_type": "execute_result"
    }
   ],
   "source": [
    "cosmo_count = cosmo['cosmo'].sum()\n",
    "cosmo_count"
   ]
  },
  {
   "cell_type": "code",
   "execution_count": 111,
   "id": "639be69e",
   "metadata": {},
   "outputs": [
    {
     "data": {
      "text/html": [
       "<div>\n",
       "<style scoped>\n",
       "    .dataframe tbody tr th:only-of-type {\n",
       "        vertical-align: middle;\n",
       "    }\n",
       "\n",
       "    .dataframe tbody tr th {\n",
       "        vertical-align: top;\n",
       "    }\n",
       "\n",
       "    .dataframe thead th {\n",
       "        text-align: right;\n",
       "    }\n",
       "</style>\n",
       "<table border=\"1\" class=\"dataframe\">\n",
       "  <thead>\n",
       "    <tr style=\"text-align: right;\">\n",
       "      <th></th>\n",
       "      <th>Region</th>\n",
       "      <th>cosmo</th>\n",
       "    </tr>\n",
       "  </thead>\n",
       "  <tbody>\n",
       "    <tr>\n",
       "      <th>0</th>\n",
       "      <td>Nevada</td>\n",
       "      <td>100</td>\n",
       "    </tr>\n",
       "    <tr>\n",
       "      <th>1</th>\n",
       "      <td>Rhode Island</td>\n",
       "      <td>11</td>\n",
       "    </tr>\n",
       "    <tr>\n",
       "      <th>2</th>\n",
       "      <td>District of Columbia</td>\n",
       "      <td>10</td>\n",
       "    </tr>\n",
       "  </tbody>\n",
       "</table>\n",
       "</div>"
      ],
      "text/plain": [
       "                 Region  cosmo\n",
       "0                Nevada    100\n",
       "1          Rhode Island     11\n",
       "2  District of Columbia     10"
      ]
     },
     "execution_count": 111,
     "metadata": {},
     "output_type": "execute_result"
    }
   ],
   "source": [
    "cosmo_g = cosmo_g.dropna()\n",
    "cosmo_g.head(3)"
   ]
  },
  {
   "cell_type": "markdown",
   "id": "00271272",
   "metadata": {},
   "source": [
    "## Strawberry Daiquiri"
   ]
  },
  {
   "cell_type": "code",
   "execution_count": 25,
   "id": "fe24b41b",
   "metadata": {
    "scrolled": true
   },
   "outputs": [
    {
     "data": {
      "text/plain": [
       "2550"
      ]
     },
     "execution_count": 25,
     "metadata": {},
     "output_type": "execute_result"
    }
   ],
   "source": [
    "straw_d_count = straw_d['strawberry daiq'].sum()\n",
    "straw_d_count"
   ]
  },
  {
   "cell_type": "code",
   "execution_count": 112,
   "id": "ad0db948",
   "metadata": {},
   "outputs": [
    {
     "data": {
      "text/html": [
       "<div>\n",
       "<style scoped>\n",
       "    .dataframe tbody tr th:only-of-type {\n",
       "        vertical-align: middle;\n",
       "    }\n",
       "\n",
       "    .dataframe tbody tr th {\n",
       "        vertical-align: top;\n",
       "    }\n",
       "\n",
       "    .dataframe thead th {\n",
       "        text-align: right;\n",
       "    }\n",
       "</style>\n",
       "<table border=\"1\" class=\"dataframe\">\n",
       "  <thead>\n",
       "    <tr style=\"text-align: right;\">\n",
       "      <th></th>\n",
       "      <th>Region</th>\n",
       "      <th>strawberry daiq</th>\n",
       "    </tr>\n",
       "  </thead>\n",
       "  <tbody>\n",
       "    <tr>\n",
       "      <th>0</th>\n",
       "      <td>Maine</td>\n",
       "      <td>100.0</td>\n",
       "    </tr>\n",
       "    <tr>\n",
       "      <th>1</th>\n",
       "      <td>West Virginia</td>\n",
       "      <td>92.0</td>\n",
       "    </tr>\n",
       "    <tr>\n",
       "      <th>2</th>\n",
       "      <td>Mississippi</td>\n",
       "      <td>85.0</td>\n",
       "    </tr>\n",
       "  </tbody>\n",
       "</table>\n",
       "</div>"
      ],
      "text/plain": [
       "          Region  strawberry daiq\n",
       "0          Maine            100.0\n",
       "1  West Virginia             92.0\n",
       "2    Mississippi             85.0"
      ]
     },
     "execution_count": 112,
     "metadata": {},
     "output_type": "execute_result"
    }
   ],
   "source": [
    "straw_d_g = straw_d_g.dropna()\n",
    "straw_d_g.head(3)"
   ]
  },
  {
   "cell_type": "markdown",
   "id": "ef0bd5a8",
   "metadata": {},
   "source": [
    "## Blue Hawaiian"
   ]
  },
  {
   "cell_type": "code",
   "execution_count": 28,
   "id": "628ec0ae",
   "metadata": {},
   "outputs": [
    {
     "data": {
      "text/plain": [
       "3316"
      ]
     },
     "execution_count": 28,
     "metadata": {},
     "output_type": "execute_result"
    }
   ],
   "source": [
    "blue_h_count = blue_h['blue h'].sum()\n",
    "blue_h_count"
   ]
  },
  {
   "cell_type": "code",
   "execution_count": 113,
   "id": "c4cadf46",
   "metadata": {},
   "outputs": [
    {
     "data": {
      "text/html": [
       "<div>\n",
       "<style scoped>\n",
       "    .dataframe tbody tr th:only-of-type {\n",
       "        vertical-align: middle;\n",
       "    }\n",
       "\n",
       "    .dataframe tbody tr th {\n",
       "        vertical-align: top;\n",
       "    }\n",
       "\n",
       "    .dataframe thead th {\n",
       "        text-align: right;\n",
       "    }\n",
       "</style>\n",
       "<table border=\"1\" class=\"dataframe\">\n",
       "  <thead>\n",
       "    <tr style=\"text-align: right;\">\n",
       "      <th></th>\n",
       "      <th>Region</th>\n",
       "      <th>blue h</th>\n",
       "    </tr>\n",
       "  </thead>\n",
       "  <tbody>\n",
       "    <tr>\n",
       "      <th>0</th>\n",
       "      <td>Hawaii</td>\n",
       "      <td>100.0</td>\n",
       "    </tr>\n",
       "    <tr>\n",
       "      <th>1</th>\n",
       "      <td>Nevada</td>\n",
       "      <td>8.0</td>\n",
       "    </tr>\n",
       "    <tr>\n",
       "      <th>2</th>\n",
       "      <td>New Hampshire</td>\n",
       "      <td>8.0</td>\n",
       "    </tr>\n",
       "  </tbody>\n",
       "</table>\n",
       "</div>"
      ],
      "text/plain": [
       "          Region  blue h\n",
       "0         Hawaii   100.0\n",
       "1         Nevada     8.0\n",
       "2  New Hampshire     8.0"
      ]
     },
     "execution_count": 113,
     "metadata": {},
     "output_type": "execute_result"
    }
   ],
   "source": [
    "blue_h_g = blue_h_g.dropna()\n",
    "blue_h_g.head(3)"
   ]
  },
  {
   "cell_type": "markdown",
   "id": "e918199f",
   "metadata": {},
   "source": [
    "## Sea Breeze"
   ]
  },
  {
   "cell_type": "code",
   "execution_count": 30,
   "id": "5444f806",
   "metadata": {},
   "outputs": [
    {
     "data": {
      "text/plain": [
       "2707"
      ]
     },
     "execution_count": 30,
     "metadata": {},
     "output_type": "execute_result"
    }
   ],
   "source": [
    "sea_b_count = sea_b['sea breeze'].sum()\n",
    "sea_b_count"
   ]
  },
  {
   "cell_type": "code",
   "execution_count": 114,
   "id": "b3a3d360",
   "metadata": {},
   "outputs": [
    {
     "data": {
      "text/html": [
       "<div>\n",
       "<style scoped>\n",
       "    .dataframe tbody tr th:only-of-type {\n",
       "        vertical-align: middle;\n",
       "    }\n",
       "\n",
       "    .dataframe tbody tr th {\n",
       "        vertical-align: top;\n",
       "    }\n",
       "\n",
       "    .dataframe thead th {\n",
       "        text-align: right;\n",
       "    }\n",
       "</style>\n",
       "<table border=\"1\" class=\"dataframe\">\n",
       "  <thead>\n",
       "    <tr style=\"text-align: right;\">\n",
       "      <th></th>\n",
       "      <th>Region</th>\n",
       "      <th>sea breeze</th>\n",
       "    </tr>\n",
       "  </thead>\n",
       "  <tbody>\n",
       "    <tr>\n",
       "      <th>0</th>\n",
       "      <td>Maine</td>\n",
       "      <td>100.0</td>\n",
       "    </tr>\n",
       "    <tr>\n",
       "      <th>1</th>\n",
       "      <td>Hawaii</td>\n",
       "      <td>98.0</td>\n",
       "    </tr>\n",
       "    <tr>\n",
       "      <th>2</th>\n",
       "      <td>Nevada</td>\n",
       "      <td>94.0</td>\n",
       "    </tr>\n",
       "  </tbody>\n",
       "</table>\n",
       "</div>"
      ],
      "text/plain": [
       "   Region  sea breeze\n",
       "0   Maine       100.0\n",
       "1  Hawaii        98.0\n",
       "2  Nevada        94.0"
      ]
     },
     "execution_count": 114,
     "metadata": {},
     "output_type": "execute_result"
    }
   ],
   "source": [
    "sea_b_g = sea_b_g.dropna()\n",
    "sea_b_g.head(3)"
   ]
  },
  {
   "cell_type": "markdown",
   "id": "7bee595b",
   "metadata": {},
   "source": [
    "## Sex on Beach"
   ]
  },
  {
   "cell_type": "code",
   "execution_count": 32,
   "id": "283c72b8",
   "metadata": {
    "scrolled": true
   },
   "outputs": [
    {
     "data": {
      "text/plain": [
       "4056"
      ]
     },
     "execution_count": 32,
     "metadata": {},
     "output_type": "execute_result"
    }
   ],
   "source": [
    "sob_count = sob['sex on beach'].sum()\n",
    "sob_count"
   ]
  },
  {
   "cell_type": "code",
   "execution_count": 115,
   "id": "9853ab61",
   "metadata": {},
   "outputs": [
    {
     "data": {
      "text/html": [
       "<div>\n",
       "<style scoped>\n",
       "    .dataframe tbody tr th:only-of-type {\n",
       "        vertical-align: middle;\n",
       "    }\n",
       "\n",
       "    .dataframe tbody tr th {\n",
       "        vertical-align: top;\n",
       "    }\n",
       "\n",
       "    .dataframe thead th {\n",
       "        text-align: right;\n",
       "    }\n",
       "</style>\n",
       "<table border=\"1\" class=\"dataframe\">\n",
       "  <thead>\n",
       "    <tr style=\"text-align: right;\">\n",
       "      <th></th>\n",
       "      <th>Region</th>\n",
       "      <th>sob</th>\n",
       "    </tr>\n",
       "  </thead>\n",
       "  <tbody>\n",
       "    <tr>\n",
       "      <th>0</th>\n",
       "      <td>South Dakota</td>\n",
       "      <td>100</td>\n",
       "    </tr>\n",
       "    <tr>\n",
       "      <th>1</th>\n",
       "      <td>Wyoming</td>\n",
       "      <td>76</td>\n",
       "    </tr>\n",
       "    <tr>\n",
       "      <th>2</th>\n",
       "      <td>North Dakota</td>\n",
       "      <td>69</td>\n",
       "    </tr>\n",
       "  </tbody>\n",
       "</table>\n",
       "</div>"
      ],
      "text/plain": [
       "         Region  sob\n",
       "0  South Dakota  100\n",
       "1       Wyoming   76\n",
       "2  North Dakota   69"
      ]
     },
     "execution_count": 115,
     "metadata": {},
     "output_type": "execute_result"
    }
   ],
   "source": [
    "sob_g = sob_g.dropna()\n",
    "sob_g.head(3)"
   ]
  },
  {
   "cell_type": "markdown",
   "id": "4eef3a92",
   "metadata": {},
   "source": [
    "## Peach Bellini"
   ]
  },
  {
   "cell_type": "code",
   "execution_count": null,
   "id": "2a7331c6",
   "metadata": {},
   "outputs": [],
   "source": [
    "peach_b_count = peach_b['bellini'].sum()\n",
    "peach_b_count"
   ]
  },
  {
   "cell_type": "code",
   "execution_count": 116,
   "id": "7f96a9bd",
   "metadata": {},
   "outputs": [
    {
     "data": {
      "text/html": [
       "<div>\n",
       "<style scoped>\n",
       "    .dataframe tbody tr th:only-of-type {\n",
       "        vertical-align: middle;\n",
       "    }\n",
       "\n",
       "    .dataframe tbody tr th {\n",
       "        vertical-align: top;\n",
       "    }\n",
       "\n",
       "    .dataframe thead th {\n",
       "        text-align: right;\n",
       "    }\n",
       "</style>\n",
       "<table border=\"1\" class=\"dataframe\">\n",
       "  <thead>\n",
       "    <tr style=\"text-align: right;\">\n",
       "      <th></th>\n",
       "      <th>Region</th>\n",
       "      <th>bellini</th>\n",
       "    </tr>\n",
       "  </thead>\n",
       "  <tbody>\n",
       "    <tr>\n",
       "      <th>0</th>\n",
       "      <td>Rhode Island</td>\n",
       "      <td>100.0</td>\n",
       "    </tr>\n",
       "    <tr>\n",
       "      <th>1</th>\n",
       "      <td>District of Columbia</td>\n",
       "      <td>61.0</td>\n",
       "    </tr>\n",
       "    <tr>\n",
       "      <th>2</th>\n",
       "      <td>New York</td>\n",
       "      <td>53.0</td>\n",
       "    </tr>\n",
       "  </tbody>\n",
       "</table>\n",
       "</div>"
      ],
      "text/plain": [
       "                 Region  bellini\n",
       "0          Rhode Island    100.0\n",
       "1  District of Columbia     61.0\n",
       "2              New York     53.0"
      ]
     },
     "execution_count": 116,
     "metadata": {},
     "output_type": "execute_result"
    }
   ],
   "source": [
    "peach_b_g = peach_b_g.dropna()\n",
    "peach_b_g.head(3)"
   ]
  },
  {
   "cell_type": "markdown",
   "id": "d2d6232a",
   "metadata": {},
   "source": [
    "## Mimosa"
   ]
  },
  {
   "cell_type": "code",
   "execution_count": 38,
   "id": "4dfa7308",
   "metadata": {},
   "outputs": [
    {
     "data": {
      "text/plain": [
       "3546"
      ]
     },
     "execution_count": 38,
     "metadata": {},
     "output_type": "execute_result"
    }
   ],
   "source": [
    "mimosa_count = mimosa['mimosa'].sum()\n",
    "mimosa_count"
   ]
  },
  {
   "cell_type": "code",
   "execution_count": 117,
   "id": "64c3a439",
   "metadata": {},
   "outputs": [
    {
     "data": {
      "text/html": [
       "<div>\n",
       "<style scoped>\n",
       "    .dataframe tbody tr th:only-of-type {\n",
       "        vertical-align: middle;\n",
       "    }\n",
       "\n",
       "    .dataframe tbody tr th {\n",
       "        vertical-align: top;\n",
       "    }\n",
       "\n",
       "    .dataframe thead th {\n",
       "        text-align: right;\n",
       "    }\n",
       "</style>\n",
       "<table border=\"1\" class=\"dataframe\">\n",
       "  <thead>\n",
       "    <tr style=\"text-align: right;\">\n",
       "      <th></th>\n",
       "      <th>Region</th>\n",
       "      <th>mimosa</th>\n",
       "    </tr>\n",
       "  </thead>\n",
       "  <tbody>\n",
       "    <tr>\n",
       "      <th>0</th>\n",
       "      <td>Nevada</td>\n",
       "      <td>100</td>\n",
       "    </tr>\n",
       "    <tr>\n",
       "      <th>1</th>\n",
       "      <td>District of Columbia</td>\n",
       "      <td>84</td>\n",
       "    </tr>\n",
       "    <tr>\n",
       "      <th>2</th>\n",
       "      <td>Colorado</td>\n",
       "      <td>76</td>\n",
       "    </tr>\n",
       "  </tbody>\n",
       "</table>\n",
       "</div>"
      ],
      "text/plain": [
       "                 Region  mimosa\n",
       "0                Nevada     100\n",
       "1  District of Columbia      84\n",
       "2              Colorado      76"
      ]
     },
     "execution_count": 117,
     "metadata": {},
     "output_type": "execute_result"
    }
   ],
   "source": [
    "mimosa_g = mimosa_g.dropna()\n",
    "mimosa_g.head(3)"
   ]
  },
  {
   "cell_type": "markdown",
   "id": "534bc4d3",
   "metadata": {},
   "source": [
    "## Rosé all Day"
   ]
  },
  {
   "cell_type": "code",
   "execution_count": 40,
   "id": "75263817",
   "metadata": {},
   "outputs": [
    {
     "data": {
      "text/plain": [
       "3002"
      ]
     },
     "execution_count": 40,
     "metadata": {},
     "output_type": "execute_result"
    }
   ],
   "source": [
    "rose_count = rose['rose'].sum()\n",
    "rose_count"
   ]
  },
  {
   "cell_type": "code",
   "execution_count": 118,
   "id": "482ef267",
   "metadata": {},
   "outputs": [
    {
     "data": {
      "text/html": [
       "<div>\n",
       "<style scoped>\n",
       "    .dataframe tbody tr th:only-of-type {\n",
       "        vertical-align: middle;\n",
       "    }\n",
       "\n",
       "    .dataframe tbody tr th {\n",
       "        vertical-align: top;\n",
       "    }\n",
       "\n",
       "    .dataframe thead th {\n",
       "        text-align: right;\n",
       "    }\n",
       "</style>\n",
       "<table border=\"1\" class=\"dataframe\">\n",
       "  <thead>\n",
       "    <tr style=\"text-align: right;\">\n",
       "      <th></th>\n",
       "      <th>Region</th>\n",
       "      <th>rose</th>\n",
       "    </tr>\n",
       "  </thead>\n",
       "  <tbody>\n",
       "    <tr>\n",
       "      <th>0</th>\n",
       "      <td>District of Columbia</td>\n",
       "      <td>100</td>\n",
       "    </tr>\n",
       "    <tr>\n",
       "      <th>1</th>\n",
       "      <td>New York</td>\n",
       "      <td>66</td>\n",
       "    </tr>\n",
       "    <tr>\n",
       "      <th>2</th>\n",
       "      <td>New Jersey</td>\n",
       "      <td>61</td>\n",
       "    </tr>\n",
       "  </tbody>\n",
       "</table>\n",
       "</div>"
      ],
      "text/plain": [
       "                 Region  rose\n",
       "0  District of Columbia   100\n",
       "1              New York    66\n",
       "2            New Jersey    61"
      ]
     },
     "execution_count": 118,
     "metadata": {},
     "output_type": "execute_result"
    }
   ],
   "source": [
    "rose_g = rose_g.dropna()\n",
    "rose_g.head(3)"
   ]
  },
  {
   "cell_type": "markdown",
   "id": "e6a80948",
   "metadata": {},
   "source": [
    "## Hurricane"
   ]
  },
  {
   "cell_type": "code",
   "execution_count": 42,
   "id": "5fd8a610",
   "metadata": {},
   "outputs": [
    {
     "data": {
      "text/plain": [
       "1835"
      ]
     },
     "execution_count": 42,
     "metadata": {},
     "output_type": "execute_result"
    }
   ],
   "source": [
    "hurricane_count = hurricane['hurricane'].sum()\n",
    "hurricane_count"
   ]
  },
  {
   "cell_type": "code",
   "execution_count": 119,
   "id": "092dcbf4",
   "metadata": {},
   "outputs": [
    {
     "data": {
      "text/html": [
       "<div>\n",
       "<style scoped>\n",
       "    .dataframe tbody tr th:only-of-type {\n",
       "        vertical-align: middle;\n",
       "    }\n",
       "\n",
       "    .dataframe tbody tr th {\n",
       "        vertical-align: top;\n",
       "    }\n",
       "\n",
       "    .dataframe thead th {\n",
       "        text-align: right;\n",
       "    }\n",
       "</style>\n",
       "<table border=\"1\" class=\"dataframe\">\n",
       "  <thead>\n",
       "    <tr style=\"text-align: right;\">\n",
       "      <th></th>\n",
       "      <th>Region</th>\n",
       "      <th>Hurricane</th>\n",
       "    </tr>\n",
       "  </thead>\n",
       "  <tbody>\n",
       "    <tr>\n",
       "      <th>0</th>\n",
       "      <td>Louisiana</td>\n",
       "      <td>100</td>\n",
       "    </tr>\n",
       "    <tr>\n",
       "      <th>1</th>\n",
       "      <td>Florida</td>\n",
       "      <td>39</td>\n",
       "    </tr>\n",
       "    <tr>\n",
       "      <th>2</th>\n",
       "      <td>Mississippi</td>\n",
       "      <td>35</td>\n",
       "    </tr>\n",
       "  </tbody>\n",
       "</table>\n",
       "</div>"
      ],
      "text/plain": [
       "        Region  Hurricane\n",
       "0    Louisiana        100\n",
       "1      Florida         39\n",
       "2  Mississippi         35"
      ]
     },
     "execution_count": 119,
     "metadata": {},
     "output_type": "execute_result"
    }
   ],
   "source": [
    "hurricane_g = hurricane_g.dropna()\n",
    "hurricane_g.head(3)"
   ]
  },
  {
   "cell_type": "markdown",
   "id": "bf0990aa",
   "metadata": {},
   "source": [
    " "
   ]
  },
  {
   "cell_type": "markdown",
   "id": "39256247",
   "metadata": {},
   "source": [
    "# All Cocktails"
   ]
  },
  {
   "cell_type": "code",
   "execution_count": 129,
   "id": "7f0356e4",
   "metadata": {},
   "outputs": [],
   "source": [
    "cocktail_data = [\n",
    "    [\"Appletini\", apple_count, appletini_g.iat[0,0]],\n",
    "    [\"Mango Margarita\", mango_m_count, mango_m_g.iat[0,0]],\n",
    "    [\"Watermelon Margarita\", water_m_count, water_m_g.iat[0,0]],\n",
    "    [\"Pina Colada\", pina_count, pina_g.iat[0,0]],\n",
    "    [\"Cosmo\", cosmo_count, cosmo_g.iat[0,0]],\n",
    "    [\"Strawberry Daiquiri\", straw_d_count, straw_d_g.iat[0,0]],\n",
    "    [\"Blue Hawaiian\", blue_h_count, blue_h_g.iat[0,0]],\n",
    "    [\"Sea Breeze\", sea_b_count, sea_b_g.iat[0,0]],\n",
    "    [\"Sex on the Beach\", sob_count, sob_g.iat[0,0]],\n",
    "    [\"Peach Bellini\", peach_b_count, peach_b_g.iat[0,0]],\n",
    "    [\"Mimosa\", mimosa_count, mimosa_g.iat[0,0]],\n",
    "    [\"Rose All Day\", rose_count, rose_g.iat[0,0]],\n",
    "    [\"Hurricane\", hurricane_count, hurricane_g.iat[0,0]]\n",
    "]"
   ]
  },
  {
   "cell_type": "code",
   "execution_count": 130,
   "id": "7b41018e",
   "metadata": {},
   "outputs": [],
   "source": [
    "totals_df = pd.DataFrame(cocktail_data, columns=['Cocktail Gummy','Count','Most Popular State'])"
   ]
  },
  {
   "cell_type": "code",
   "execution_count": 131,
   "id": "62428669",
   "metadata": {},
   "outputs": [],
   "source": [
    "totals_df = totals_df.sort_values(by=['Count'], ascending=False)"
   ]
  },
  {
   "cell_type": "markdown",
   "id": "62590cbc",
   "metadata": {},
   "source": [
    "# Graphs & Visuals"
   ]
  },
  {
   "cell_type": "code",
   "execution_count": 134,
   "id": "bfeaa37d",
   "metadata": {},
   "outputs": [
    {
     "data": {
      "text/plain": [
       "Text(0.5, 1.0, 'Frequency of Cocktail Searched on Google (12mo)')"
      ]
     },
     "execution_count": 134,
     "metadata": {},
     "output_type": "execute_result"
    },
    {
     "data": {
      "image/png": "[encoded data removed]",
      "text/plain": [
       "<Figure size 432x288 with 1 Axes>"
      ]
     },
     "metadata": {
      "needs_background": "light"
     },
     "output_type": "display_data"
    }
   ],
   "source": [
    "totals_df.plot(x='Cocktail Gummy', y='Count', kind='bar')\n",
    "plt.xlabel('Cocktail')\n",
    "plt.ylabel('Total Searches')\n",
    "plt.title('Frequency of Cocktail Searched on Google (12mo)')"
   ]
  },
  {
   "cell_type": "code",
   "execution_count": 135,
   "id": "ff391bdb",
   "metadata": {},
   "outputs": [
    {
     "data": {
      "text/html": [
       "<div>\n",
       "<style scoped>\n",
       "    .dataframe tbody tr th:only-of-type {\n",
       "        vertical-align: middle;\n",
       "    }\n",
       "\n",
       "    .dataframe tbody tr th {\n",
       "        vertical-align: top;\n",
       "    }\n",
       "\n",
       "    .dataframe thead th {\n",
       "        text-align: right;\n",
       "    }\n",
       "</style>\n",
       "<table border=\"1\" class=\"dataframe\">\n",
       "  <thead>\n",
       "    <tr style=\"text-align: right;\">\n",
       "      <th></th>\n",
       "      <th>Cocktail Gummy</th>\n",
       "      <th>Count</th>\n",
       "      <th>Most Popular State</th>\n",
       "    </tr>\n",
       "  </thead>\n",
       "  <tbody>\n",
       "    <tr>\n",
       "      <th>8</th>\n",
       "      <td>Sex on the Beach</td>\n",
       "      <td>4056</td>\n",
       "      <td>South Dakota</td>\n",
       "    </tr>\n",
       "    <tr>\n",
       "      <th>4</th>\n",
       "      <td>Cosmo</td>\n",
       "      <td>4019</td>\n",
       "      <td>Nevada</td>\n",
       "    </tr>\n",
       "    <tr>\n",
       "      <th>9</th>\n",
       "      <td>Peach Bellini</td>\n",
       "      <td>3819</td>\n",
       "      <td>Rhode Island</td>\n",
       "    </tr>\n",
       "    <tr>\n",
       "      <th>10</th>\n",
       "      <td>Mimosa</td>\n",
       "      <td>3546</td>\n",
       "      <td>Nevada</td>\n",
       "    </tr>\n",
       "    <tr>\n",
       "      <th>0</th>\n",
       "      <td>Appletini</td>\n",
       "      <td>3380</td>\n",
       "      <td>Washington</td>\n",
       "    </tr>\n",
       "    <tr>\n",
       "      <th>6</th>\n",
       "      <td>Blue Hawaiian</td>\n",
       "      <td>3316</td>\n",
       "      <td>Hawaii</td>\n",
       "    </tr>\n",
       "    <tr>\n",
       "      <th>11</th>\n",
       "      <td>Rose All Day</td>\n",
       "      <td>3002</td>\n",
       "      <td>District of Columbia</td>\n",
       "    </tr>\n",
       "    <tr>\n",
       "      <th>7</th>\n",
       "      <td>Sea Breeze</td>\n",
       "      <td>2707</td>\n",
       "      <td>Maine</td>\n",
       "    </tr>\n",
       "    <tr>\n",
       "      <th>5</th>\n",
       "      <td>Strawberry Daiquiri</td>\n",
       "      <td>2550</td>\n",
       "      <td>Maine</td>\n",
       "    </tr>\n",
       "    <tr>\n",
       "      <th>3</th>\n",
       "      <td>Pina Colada</td>\n",
       "      <td>2498</td>\n",
       "      <td>Hawaii</td>\n",
       "    </tr>\n",
       "    <tr>\n",
       "      <th>12</th>\n",
       "      <td>Hurricane</td>\n",
       "      <td>1835</td>\n",
       "      <td>Louisiana</td>\n",
       "    </tr>\n",
       "    <tr>\n",
       "      <th>1</th>\n",
       "      <td>Mango Margarita</td>\n",
       "      <td>1720</td>\n",
       "      <td>Arizona</td>\n",
       "    </tr>\n",
       "    <tr>\n",
       "      <th>2</th>\n",
       "      <td>Watermelon Margarita</td>\n",
       "      <td>999</td>\n",
       "      <td>District of Columbia</td>\n",
       "    </tr>\n",
       "  </tbody>\n",
       "</table>\n",
       "</div>"
      ],
      "text/plain": [
       "          Cocktail Gummy  Count    Most Popular State\n",
       "8       Sex on the Beach   4056          South Dakota\n",
       "4                  Cosmo   4019                Nevada\n",
       "9          Peach Bellini   3819          Rhode Island\n",
       "10                Mimosa   3546                Nevada\n",
       "0              Appletini   3380            Washington\n",
       "6          Blue Hawaiian   3316                Hawaii\n",
       "11          Rose All Day   3002  District of Columbia\n",
       "7             Sea Breeze   2707                 Maine\n",
       "5    Strawberry Daiquiri   2550                 Maine\n",
       "3            Pina Colada   2498                Hawaii\n",
       "12             Hurricane   1835             Louisiana\n",
       "1        Mango Margarita   1720               Arizona\n",
       "2   Watermelon Margarita    999  District of Columbia"
      ]
     },
     "execution_count": 135,
     "metadata": {},
     "output_type": "execute_result"
    }
   ],
   "source": [
    "totals_df"
   ]
  },
  {
   "cell_type": "code",
   "execution_count": null,
   "id": "f56b3a32",
   "metadata": {},
   "outputs": [],
   "source": []
  }
 ],
 "metadata": {
  "kernelspec": {
   "display_name": "Python 3",
   "language": "python",
   "name": "python3"
  },
  "language_info": {
   "codemirror_mode": {
    "name": "ipython",
    "version": 3
   },
   "file_extension": ".py",
   "mimetype": "text/x-python",
   "name": "python",
   "nbconvert_exporter": "python",
   "pygments_lexer": "ipython3",
   "version": "3.8.8"
  }
 },
 "nbformat": 4,
 "nbformat_minor": 5
}
