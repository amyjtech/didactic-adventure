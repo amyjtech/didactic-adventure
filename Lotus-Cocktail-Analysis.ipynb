{
 "cells": [
  {
   "cell_type": "code",
   "execution_count": 137,
   "id": "326dac57",
   "metadata": {},
   "outputs": [],
   "source": [
    "import pandas as pd\n",
    "import matplotlib.pyplot as plt"
   ]
  },
  {
   "cell_type": "code",
   "execution_count": 138,
   "id": "29cc2be3",
   "metadata": {},
   "outputs": [],
   "source": [
    "# 2015-2019 Census Data\n",
    "census = pd.read_csv('Google-Data/data-M1iMr.csv')"
   ]
  },
  {
   "cell_type": "code",
   "execution_count": 139,
   "id": "95464483",
   "metadata": {},
   "outputs": [],
   "source": [
    "# Read in CSV Files\n",
    "appletini = pd.read_csv('Google-Data/appletini.csv')\n",
    "mango_m = pd.read_csv('Google-Data/mango-marg.csv')\n",
    "water_m = pd.read_csv('Google-Data/water-marg.csv')\n",
    "pina = pd.read_csv('Google-Data/pina.csv')\n",
    "cosmo = pd.read_csv('Google-Data/cosmo.csv')\n",
    "straw_d = pd.read_csv('Google-Data/straw-d.csv')\n",
    "blue_h = pd.read_csv('Google-Data/blue-hawaii.csv')\n",
    "sea_b = pd.read_csv('Google-Data/sea-breeze.csv')\n",
    "sob = pd.read_csv('Google-Data/sob.csv')\n",
    "peach_b = pd.read_csv('Google-Data/peach-b.csv')\n",
    "mimosa = pd.read_csv('Google-Data/mimosa.csv')\n",
    "rose = pd.read_csv('Google-Data/rose.csv')\n",
    "hurricane = pd.read_csv('Google-Data/hurricane.csv')"
   ]
  },
  {
   "cell_type": "code",
   "execution_count": 78,
   "id": "c4338b29",
   "metadata": {},
   "outputs": [],
   "source": [
    "# Read in geo-map CSV Files\n",
    "appletini_g = pd.read_csv('Google-Data/appletini-geo.csv')\n",
    "mango_m_g = pd.read_csv('Google-Data/mango-marg-geo.csv')\n",
    "water_m_g = pd.read_csv('Google-Data/water-marg-geo.csv')\n",
    "pina_g = pd.read_csv('Google-Data/pina-geo.csv')\n",
    "cosmo_g = pd.read_csv('Google-Data/cosmo-geo.csv')\n",
    "straw_d_g = pd.read_csv('Google-Data/straw-d-geo.csv')\n",
    "blue_h_g = pd.read_csv('Google-Data/blue-hawaii-geo.csv')\n",
    "sea_b_g = pd.read_csv('Google-Data/sea-breeze-geo.csv')\n",
    "sob_g = pd.read_csv('Google-Data/sob-geo.csv')\n",
    "peach_b_g = pd.read_csv('Google-Data/peach-b-geo.csv')\n",
    "mimosa_g = pd.read_csv('Google-Data/mimosa-geo.csv')\n",
    "rose_g = pd.read_csv('Google-Data/rose-geo.csv')\n",
    "hurricane_g = pd.read_csv('Google-Data/hurricane-geo.csv')"
   ]
  },
  {
   "cell_type": "markdown",
   "id": "bc98ec48",
   "metadata": {},
   "source": [
    " "
   ]
  },
  {
   "cell_type": "markdown",
   "id": "07e28cb6",
   "metadata": {},
   "source": [
    " "
   ]
  },
  {
   "cell_type": "markdown",
   "id": "022fd954",
   "metadata": {},
   "source": [
    " "
   ]
  },
  {
   "cell_type": "markdown",
   "id": "26163fbc",
   "metadata": {},
   "source": [
    " "
   ]
  },
  {
   "cell_type": "markdown",
   "id": "fe311f8f",
   "metadata": {},
   "source": [
    "### Using Google Search trend data from past 12 months to document popularity of cocktails overall, and by region."
   ]
  },
  {
   "cell_type": "markdown",
   "id": "62663d80",
   "metadata": {},
   "source": [
    "## Appletini"
   ]
  },
  {
   "cell_type": "code",
   "execution_count": 64,
   "id": "147350ae",
   "metadata": {},
   "outputs": [
    {
     "data": {
      "text/plain": [
       "3380"
      ]
     },
     "execution_count": 64,
     "metadata": {},
     "output_type": "execute_result"
    }
   ],
   "source": [
    "apple_count = appletini['Appletini'].sum()\n",
    "apple_count"
   ]
  },
  {
   "cell_type": "code",
   "execution_count": 106,
   "id": "7a8fe517",
   "metadata": {},
   "outputs": [
    {
     "data": {
      "text/html": [
       "<div>\n",
       "<style scoped>\n",
       "    .dataframe tbody tr th:only-of-type {\n",
       "        vertical-align: middle;\n",
       "    }\n",
       "\n",
       "    .dataframe tbody tr th {\n",
       "        vertical-align: top;\n",
       "    }\n",
       "\n",
       "    .dataframe thead th {\n",
       "        text-align: right;\n",
       "    }\n",
       "</style>\n",
       "<table border=\"1\" class=\"dataframe\">\n",
       "  <thead>\n",
       "    <tr style=\"text-align: right;\">\n",
       "      <th></th>\n",
       "      <th>Region</th>\n",
       "      <th>appletini</th>\n",
       "    </tr>\n",
       "  </thead>\n",
       "  <tbody>\n",
       "    <tr>\n",
       "      <th>0</th>\n",
       "      <td>Washington</td>\n",
       "      <td>100.0</td>\n",
       "    </tr>\n",
       "    <tr>\n",
       "      <th>1</th>\n",
       "      <td>District of Columbia</td>\n",
       "      <td>95.0</td>\n",
       "    </tr>\n",
       "    <tr>\n",
       "      <th>2</th>\n",
       "      <td>Minnesota</td>\n",
       "      <td>91.0</td>\n",
       "    </tr>\n",
       "  </tbody>\n",
       "</table>\n",
       "</div>"
      ],
      "text/plain": [
       "                 Region  appletini\n",
       "0            Washington      100.0\n",
       "1  District of Columbia       95.0\n",
       "2             Minnesota       91.0"
      ]
     },
     "execution_count": 106,
     "metadata": {},
     "output_type": "execute_result"
    }
   ],
   "source": [
    "appletini_g = appletini_g.dropna()\n",
    "appletini_g.head(3)"
   ]
  },
  {
   "cell_type": "markdown",
   "id": "1288248e",
   "metadata": {},
   "source": [
    "## Mango Margarita"
   ]
  },
  {
   "cell_type": "code",
   "execution_count": 13,
   "id": "e06b20d8",
   "metadata": {},
   "outputs": [
    {
     "data": {
      "text/plain": [
       "1720"
      ]
     },
     "execution_count": 13,
     "metadata": {},
     "output_type": "execute_result"
    }
   ],
   "source": [
    "mango_m_count = mango_m['mango marg'].sum()\n",
    "mango_m_count"
   ]
  },
  {
   "cell_type": "code",
   "execution_count": 108,
   "id": "cda5c2ba",
   "metadata": {},
   "outputs": [
    {
     "data": {
      "text/html": [
       "<div>\n",
       "<style scoped>\n",
       "    .dataframe tbody tr th:only-of-type {\n",
       "        vertical-align: middle;\n",
       "    }\n",
       "\n",
       "    .dataframe tbody tr th {\n",
       "        vertical-align: top;\n",
       "    }\n",
       "\n",
       "    .dataframe thead th {\n",
       "        text-align: right;\n",
       "    }\n",
       "</style>\n",
       "<table border=\"1\" class=\"dataframe\">\n",
       "  <thead>\n",
       "    <tr style=\"text-align: right;\">\n",
       "      <th></th>\n",
       "      <th>Region</th>\n",
       "      <th>Mango margarita</th>\n",
       "    </tr>\n",
       "  </thead>\n",
       "  <tbody>\n",
       "    <tr>\n",
       "      <th>0</th>\n",
       "      <td>Arizona</td>\n",
       "      <td>100.0</td>\n",
       "    </tr>\n",
       "    <tr>\n",
       "      <th>1</th>\n",
       "      <td>Florida</td>\n",
       "      <td>94.0</td>\n",
       "    </tr>\n",
       "    <tr>\n",
       "      <th>2</th>\n",
       "      <td>Arkansas</td>\n",
       "      <td>84.0</td>\n",
       "    </tr>\n",
       "  </tbody>\n",
       "</table>\n",
       "</div>"
      ],
      "text/plain": [
       "     Region  Mango margarita\n",
       "0   Arizona            100.0\n",
       "1   Florida             94.0\n",
       "2  Arkansas             84.0"
      ]
     },
     "execution_count": 108,
     "metadata": {},
     "output_type": "execute_result"
    }
   ],
   "source": [
    "mango_m_g = mango_m_g.dropna()\n",
    "mango_m_g.head(3)"
   ]
  },
  {
   "cell_type": "markdown",
   "id": "967c589f",
   "metadata": {},
   "source": [
    "## Watermelon Margarita"
   ]
  },
  {
   "cell_type": "code",
   "execution_count": 17,
   "id": "c8f7beaf",
   "metadata": {},
   "outputs": [
    {
     "data": {
      "text/plain": [
       "999"
      ]
     },
     "execution_count": 17,
     "metadata": {},
     "output_type": "execute_result"
    }
   ],
   "source": [
    "water_m_count = water_m['watermelon marg'].sum()\n",
    "water_m_count"
   ]
  },
  {
   "cell_type": "code",
   "execution_count": 109,
   "id": "71629406",
   "metadata": {},
   "outputs": [
    {
     "data": {
      "text/html": [
       "<div>\n",
       "<style scoped>\n",
       "    .dataframe tbody tr th:only-of-type {\n",
       "        vertical-align: middle;\n",
       "    }\n",
       "\n",
       "    .dataframe tbody tr th {\n",
       "        vertical-align: top;\n",
       "    }\n",
       "\n",
       "    .dataframe thead th {\n",
       "        text-align: right;\n",
       "    }\n",
       "</style>\n",
       "<table border=\"1\" class=\"dataframe\">\n",
       "  <thead>\n",
       "    <tr style=\"text-align: right;\">\n",
       "      <th></th>\n",
       "      <th>Region</th>\n",
       "      <th>watermelon marg</th>\n",
       "    </tr>\n",
       "  </thead>\n",
       "  <tbody>\n",
       "    <tr>\n",
       "      <th>0</th>\n",
       "      <td>District of Columbia</td>\n",
       "      <td>100.0</td>\n",
       "    </tr>\n",
       "    <tr>\n",
       "      <th>1</th>\n",
       "      <td>Rhode Island</td>\n",
       "      <td>96.0</td>\n",
       "    </tr>\n",
       "    <tr>\n",
       "      <th>2</th>\n",
       "      <td>Maine</td>\n",
       "      <td>87.0</td>\n",
       "    </tr>\n",
       "  </tbody>\n",
       "</table>\n",
       "</div>"
      ],
      "text/plain": [
       "                 Region  watermelon marg\n",
       "0  District of Columbia            100.0\n",
       "1          Rhode Island             96.0\n",
       "2                 Maine             87.0"
      ]
     },
     "execution_count": 109,
     "metadata": {},
     "output_type": "execute_result"
    }
   ],
   "source": [
    "water_m_g = water_m_g.dropna()\n",
    "water_m_g.head(3)"
   ]
  },
  {
   "cell_type": "markdown",
   "id": "1ce13f33",
   "metadata": {},
   "source": [
    "## Piña Colada"
   ]
  },
  {
   "cell_type": "code",
   "execution_count": 21,
   "id": "6060a5db",
   "metadata": {
    "scrolled": true
   },
   "outputs": [
    {
     "data": {
      "text/plain": [
       "2498"
      ]
     },
     "execution_count": 21,
     "metadata": {},
     "output_type": "execute_result"
    }
   ],
   "source": [
    "pina_count = pina['pina colada'].sum()\n",
    "pina_count"
   ]
  },
  {
   "cell_type": "code",
   "execution_count": 110,
   "id": "6aa1d193",
   "metadata": {},
   "outputs": [
    {
     "data": {
      "text/html": [
       "<div>\n",
       "<style scoped>\n",
       "    .dataframe tbody tr th:only-of-type {\n",
       "        vertical-align: middle;\n",
       "    }\n",
       "\n",
       "    .dataframe tbody tr th {\n",
       "        vertical-align: top;\n",
       "    }\n",
       "\n",
       "    .dataframe thead th {\n",
       "        text-align: right;\n",
       "    }\n",
       "</style>\n",
       "<table border=\"1\" class=\"dataframe\">\n",
       "  <thead>\n",
       "    <tr style=\"text-align: right;\">\n",
       "      <th></th>\n",
       "      <th>Region</th>\n",
       "      <th>pina</th>\n",
       "    </tr>\n",
       "  </thead>\n",
       "  <tbody>\n",
       "    <tr>\n",
       "      <th>0</th>\n",
       "      <td>Hawaii</td>\n",
       "      <td>100</td>\n",
       "    </tr>\n",
       "    <tr>\n",
       "      <th>1</th>\n",
       "      <td>Florida</td>\n",
       "      <td>53</td>\n",
       "    </tr>\n",
       "    <tr>\n",
       "      <th>2</th>\n",
       "      <td>Utah</td>\n",
       "      <td>41</td>\n",
       "    </tr>\n",
       "  </tbody>\n",
       "</table>\n",
       "</div>"
      ],
      "text/plain": [
       "    Region  pina\n",
       "0   Hawaii   100\n",
       "1  Florida    53\n",
       "2     Utah    41"
      ]
     },
     "execution_count": 110,
     "metadata": {},
     "output_type": "execute_result"
    }
   ],
   "source": [
    "pina_g = pina_g.dropna()\n",
    "pina_g.head(3)"
   ]
  },
  {
   "cell_type": "markdown",
   "id": "4e68fd88",
   "metadata": {},
   "source": [
    "## Cosmo"
   ]
  },
  {
   "cell_type": "code",
   "execution_count": 23,
   "id": "96f39554",
   "metadata": {
    "scrolled": true
   },
   "outputs": [
    {
     "data": {
      "text/plain": [
       "4019"
      ]
     },
     "execution_count": 23,
     "metadata": {},
     "output_type": "execute_result"
    }
   ],
   "source": [
    "cosmo_count = cosmo['cosmo'].sum()\n",
    "cosmo_count"
   ]
  },
  {
   "cell_type": "code",
   "execution_count": 111,
   "id": "78c440ed",
   "metadata": {},
   "outputs": [
    {
     "data": {
      "text/html": [
       "<div>\n",
       "<style scoped>\n",
       "    .dataframe tbody tr th:only-of-type {\n",
       "        vertical-align: middle;\n",
       "    }\n",
       "\n",
       "    .dataframe tbody tr th {\n",
       "        vertical-align: top;\n",
       "    }\n",
       "\n",
       "    .dataframe thead th {\n",
       "        text-align: right;\n",
       "    }\n",
       "</style>\n",
       "<table border=\"1\" class=\"dataframe\">\n",
       "  <thead>\n",
       "    <tr style=\"text-align: right;\">\n",
       "      <th></th>\n",
       "      <th>Region</th>\n",
       "      <th>cosmo</th>\n",
       "    </tr>\n",
       "  </thead>\n",
       "  <tbody>\n",
       "    <tr>\n",
       "      <th>0</th>\n",
       "      <td>Nevada</td>\n",
       "      <td>100</td>\n",
       "    </tr>\n",
       "    <tr>\n",
       "      <th>1</th>\n",
       "      <td>Rhode Island</td>\n",
       "      <td>11</td>\n",
       "    </tr>\n",
       "    <tr>\n",
       "      <th>2</th>\n",
       "      <td>District of Columbia</td>\n",
       "      <td>10</td>\n",
       "    </tr>\n",
       "  </tbody>\n",
       "</table>\n",
       "</div>"
      ],
      "text/plain": [
       "                 Region  cosmo\n",
       "0                Nevada    100\n",
       "1          Rhode Island     11\n",
       "2  District of Columbia     10"
      ]
     },
     "execution_count": 111,
     "metadata": {},
     "output_type": "execute_result"
    }
   ],
   "source": [
    "cosmo_g = cosmo_g.dropna()\n",
    "cosmo_g.head(3)"
   ]
  },
  {
   "cell_type": "markdown",
   "id": "7e88d698",
   "metadata": {},
   "source": [
    "## Strawberry Daiquiri"
   ]
  },
  {
   "cell_type": "code",
   "execution_count": 25,
   "id": "037cbe20",
   "metadata": {
    "scrolled": true
   },
   "outputs": [
    {
     "data": {
      "text/plain": [
       "2550"
      ]
     },
     "execution_count": 25,
     "metadata": {},
     "output_type": "execute_result"
    }
   ],
   "source": [
    "straw_d_count = straw_d['strawberry daiq'].sum()\n",
    "straw_d_count"
   ]
  },
  {
   "cell_type": "code",
   "execution_count": 112,
   "id": "33085426",
   "metadata": {},
   "outputs": [
    {
     "data": {
      "text/html": [
       "<div>\n",
       "<style scoped>\n",
       "    .dataframe tbody tr th:only-of-type {\n",
       "        vertical-align: middle;\n",
       "    }\n",
       "\n",
       "    .dataframe tbody tr th {\n",
       "        vertical-align: top;\n",
       "    }\n",
       "\n",
       "    .dataframe thead th {\n",
       "        text-align: right;\n",
       "    }\n",
       "</style>\n",
       "<table border=\"1\" class=\"dataframe\">\n",
       "  <thead>\n",
       "    <tr style=\"text-align: right;\">\n",
       "      <th></th>\n",
       "      <th>Region</th>\n",
       "      <th>strawberry daiq</th>\n",
       "    </tr>\n",
       "  </thead>\n",
       "  <tbody>\n",
       "    <tr>\n",
       "      <th>0</th>\n",
       "      <td>Maine</td>\n",
       "      <td>100.0</td>\n",
       "    </tr>\n",
       "    <tr>\n",
       "      <th>1</th>\n",
       "      <td>West Virginia</td>\n",
       "      <td>92.0</td>\n",
       "    </tr>\n",
       "    <tr>\n",
       "      <th>2</th>\n",
       "      <td>Mississippi</td>\n",
       "      <td>85.0</td>\n",
       "    </tr>\n",
       "  </tbody>\n",
       "</table>\n",
       "</div>"
      ],
      "text/plain": [
       "          Region  strawberry daiq\n",
       "0          Maine            100.0\n",
       "1  West Virginia             92.0\n",
       "2    Mississippi             85.0"
      ]
     },
     "execution_count": 112,
     "metadata": {},
     "output_type": "execute_result"
    }
   ],
   "source": [
    "straw_d_g = straw_d_g.dropna()\n",
    "straw_d_g.head(3)"
   ]
  },
  {
   "cell_type": "markdown",
   "id": "90e1a4b5",
   "metadata": {},
   "source": [
    "## Blue Hawaiian"
   ]
  },
  {
   "cell_type": "code",
   "execution_count": 28,
   "id": "8a507a38",
   "metadata": {},
   "outputs": [
    {
     "data": {
      "text/plain": [
       "3316"
      ]
     },
     "execution_count": 28,
     "metadata": {},
     "output_type": "execute_result"
    }
   ],
   "source": [
    "blue_h_count = blue_h['blue h'].sum()\n",
    "blue_h_count"
   ]
  },
  {
   "cell_type": "code",
   "execution_count": 113,
   "id": "9846d81f",
   "metadata": {},
   "outputs": [
    {
     "data": {
      "text/html": [
       "<div>\n",
       "<style scoped>\n",
       "    .dataframe tbody tr th:only-of-type {\n",
       "        vertical-align: middle;\n",
       "    }\n",
       "\n",
       "    .dataframe tbody tr th {\n",
       "        vertical-align: top;\n",
       "    }\n",
       "\n",
       "    .dataframe thead th {\n",
       "        text-align: right;\n",
       "    }\n",
       "</style>\n",
       "<table border=\"1\" class=\"dataframe\">\n",
       "  <thead>\n",
       "    <tr style=\"text-align: right;\">\n",
       "      <th></th>\n",
       "      <th>Region</th>\n",
       "      <th>blue h</th>\n",
       "    </tr>\n",
       "  </thead>\n",
       "  <tbody>\n",
       "    <tr>\n",
       "      <th>0</th>\n",
       "      <td>Hawaii</td>\n",
       "      <td>100.0</td>\n",
       "    </tr>\n",
       "    <tr>\n",
       "      <th>1</th>\n",
       "      <td>Nevada</td>\n",
       "      <td>8.0</td>\n",
       "    </tr>\n",
       "    <tr>\n",
       "      <th>2</th>\n",
       "      <td>New Hampshire</td>\n",
       "      <td>8.0</td>\n",
       "    </tr>\n",
       "  </tbody>\n",
       "</table>\n",
       "</div>"
      ],
      "text/plain": [
       "          Region  blue h\n",
       "0         Hawaii   100.0\n",
       "1         Nevada     8.0\n",
       "2  New Hampshire     8.0"
      ]
     },
     "execution_count": 113,
     "metadata": {},
     "output_type": "execute_result"
    }
   ],
   "source": [
    "blue_h_g = blue_h_g.dropna()\n",
    "blue_h_g.head(3)"
   ]
  },
  {
   "cell_type": "markdown",
   "id": "7a9ca793",
   "metadata": {},
   "source": [
    "## Sea Breeze"
   ]
  },
  {
   "cell_type": "code",
   "execution_count": 30,
   "id": "31796ef3",
   "metadata": {},
   "outputs": [
    {
     "data": {
      "text/plain": [
       "2707"
      ]
     },
     "execution_count": 30,
     "metadata": {},
     "output_type": "execute_result"
    }
   ],
   "source": [
    "sea_b_count = sea_b['sea breeze'].sum()\n",
    "sea_b_count"
   ]
  },
  {
   "cell_type": "code",
   "execution_count": 114,
   "id": "d01c8cae",
   "metadata": {},
   "outputs": [
    {
     "data": {
      "text/html": [
       "<div>\n",
       "<style scoped>\n",
       "    .dataframe tbody tr th:only-of-type {\n",
       "        vertical-align: middle;\n",
       "    }\n",
       "\n",
       "    .dataframe tbody tr th {\n",
       "        vertical-align: top;\n",
       "    }\n",
       "\n",
       "    .dataframe thead th {\n",
       "        text-align: right;\n",
       "    }\n",
       "</style>\n",
       "<table border=\"1\" class=\"dataframe\">\n",
       "  <thead>\n",
       "    <tr style=\"text-align: right;\">\n",
       "      <th></th>\n",
       "      <th>Region</th>\n",
       "      <th>sea breeze</th>\n",
       "    </tr>\n",
       "  </thead>\n",
       "  <tbody>\n",
       "    <tr>\n",
       "      <th>0</th>\n",
       "      <td>Maine</td>\n",
       "      <td>100.0</td>\n",
       "    </tr>\n",
       "    <tr>\n",
       "      <th>1</th>\n",
       "      <td>Hawaii</td>\n",
       "      <td>98.0</td>\n",
       "    </tr>\n",
       "    <tr>\n",
       "      <th>2</th>\n",
       "      <td>Nevada</td>\n",
       "      <td>94.0</td>\n",
       "    </tr>\n",
       "  </tbody>\n",
       "</table>\n",
       "</div>"
      ],
      "text/plain": [
       "   Region  sea breeze\n",
       "0   Maine       100.0\n",
       "1  Hawaii        98.0\n",
       "2  Nevada        94.0"
      ]
     },
     "execution_count": 114,
     "metadata": {},
     "output_type": "execute_result"
    }
   ],
   "source": [
    "sea_b_g = sea_b_g.dropna()\n",
    "sea_b_g.head(3)"
   ]
  },
  {
   "cell_type": "markdown",
   "id": "bcc6ab0e",
   "metadata": {},
   "source": [
    "## Sex on Beach"
   ]
  },
  {
   "cell_type": "code",
   "execution_count": 32,
   "id": "0d7a7015",
   "metadata": {
    "scrolled": true
   },
   "outputs": [
    {
     "data": {
      "text/plain": [
       "4056"
      ]
     },
     "execution_count": 32,
     "metadata": {},
     "output_type": "execute_result"
    }
   ],
   "source": [
    "sob_count = sob['sex on beach'].sum()\n",
    "sob_count"
   ]
  },
  {
   "cell_type": "code",
   "execution_count": 115,
   "id": "4ce99184",
   "metadata": {},
   "outputs": [
    {
     "data": {
      "text/html": [
       "<div>\n",
       "<style scoped>\n",
       "    .dataframe tbody tr th:only-of-type {\n",
       "        vertical-align: middle;\n",
       "    }\n",
       "\n",
       "    .dataframe tbody tr th {\n",
       "        vertical-align: top;\n",
       "    }\n",
       "\n",
       "    .dataframe thead th {\n",
       "        text-align: right;\n",
       "    }\n",
       "</style>\n",
       "<table border=\"1\" class=\"dataframe\">\n",
       "  <thead>\n",
       "    <tr style=\"text-align: right;\">\n",
       "      <th></th>\n",
       "      <th>Region</th>\n",
       "      <th>sob</th>\n",
       "    </tr>\n",
       "  </thead>\n",
       "  <tbody>\n",
       "    <tr>\n",
       "      <th>0</th>\n",
       "      <td>South Dakota</td>\n",
       "      <td>100</td>\n",
       "    </tr>\n",
       "    <tr>\n",
       "      <th>1</th>\n",
       "      <td>Wyoming</td>\n",
       "      <td>76</td>\n",
       "    </tr>\n",
       "    <tr>\n",
       "      <th>2</th>\n",
       "      <td>North Dakota</td>\n",
       "      <td>69</td>\n",
       "    </tr>\n",
       "  </tbody>\n",
       "</table>\n",
       "</div>"
      ],
      "text/plain": [
       "         Region  sob\n",
       "0  South Dakota  100\n",
       "1       Wyoming   76\n",
       "2  North Dakota   69"
      ]
     },
     "execution_count": 115,
     "metadata": {},
     "output_type": "execute_result"
    }
   ],
   "source": [
    "sob_g = sob_g.dropna()\n",
    "sob_g.head(3)"
   ]
  },
  {
   "cell_type": "markdown",
   "id": "b96c5697",
   "metadata": {},
   "source": [
    "## Peach Bellini"
   ]
  },
  {
   "cell_type": "code",
   "execution_count": null,
   "id": "3bbc5f4d",
   "metadata": {},
   "outputs": [],
   "source": [
    "peach_b_count = peach_b['bellini'].sum()\n",
    "peach_b_count"
   ]
  },
  {
   "cell_type": "code",
   "execution_count": 116,
   "id": "ac063e55",
   "metadata": {},
   "outputs": [
    {
     "data": {
      "text/html": [
       "<div>\n",
       "<style scoped>\n",
       "    .dataframe tbody tr th:only-of-type {\n",
       "        vertical-align: middle;\n",
       "    }\n",
       "\n",
       "    .dataframe tbody tr th {\n",
       "        vertical-align: top;\n",
       "    }\n",
       "\n",
       "    .dataframe thead th {\n",
       "        text-align: right;\n",
       "    }\n",
       "</style>\n",
       "<table border=\"1\" class=\"dataframe\">\n",
       "  <thead>\n",
       "    <tr style=\"text-align: right;\">\n",
       "      <th></th>\n",
       "      <th>Region</th>\n",
       "      <th>bellini</th>\n",
       "    </tr>\n",
       "  </thead>\n",
       "  <tbody>\n",
       "    <tr>\n",
       "      <th>0</th>\n",
       "      <td>Rhode Island</td>\n",
       "      <td>100.0</td>\n",
       "    </tr>\n",
       "    <tr>\n",
       "      <th>1</th>\n",
       "      <td>District of Columbia</td>\n",
       "      <td>61.0</td>\n",
       "    </tr>\n",
       "    <tr>\n",
       "      <th>2</th>\n",
       "      <td>New York</td>\n",
       "      <td>53.0</td>\n",
       "    </tr>\n",
       "  </tbody>\n",
       "</table>\n",
       "</div>"
      ],
      "text/plain": [
       "                 Region  bellini\n",
       "0          Rhode Island    100.0\n",
       "1  District of Columbia     61.0\n",
       "2              New York     53.0"
      ]
     },
     "execution_count": 116,
     "metadata": {},
     "output_type": "execute_result"
    }
   ],
   "source": [
    "peach_b_g = peach_b_g.dropna()\n",
    "peach_b_g.head(3)"
   ]
  },
  {
   "cell_type": "markdown",
   "id": "5f3a8b1f",
   "metadata": {},
   "source": [
    "## Mimosa"
   ]
  },
  {
   "cell_type": "code",
   "execution_count": 38,
   "id": "8de6978b",
   "metadata": {},
   "outputs": [
    {
     "data": {
      "text/plain": [
       "3546"
      ]
     },
     "execution_count": 38,
     "metadata": {},
     "output_type": "execute_result"
    }
   ],
   "source": [
    "mimosa_count = mimosa['mimosa'].sum()\n",
    "mimosa_count"
   ]
  },
  {
   "cell_type": "code",
   "execution_count": 117,
   "id": "f3d67b8c",
   "metadata": {},
   "outputs": [
    {
     "data": {
      "text/html": [
       "<div>\n",
       "<style scoped>\n",
       "    .dataframe tbody tr th:only-of-type {\n",
       "        vertical-align: middle;\n",
       "    }\n",
       "\n",
       "    .dataframe tbody tr th {\n",
       "        vertical-align: top;\n",
       "    }\n",
       "\n",
       "    .dataframe thead th {\n",
       "        text-align: right;\n",
       "    }\n",
       "</style>\n",
       "<table border=\"1\" class=\"dataframe\">\n",
       "  <thead>\n",
       "    <tr style=\"text-align: right;\">\n",
       "      <th></th>\n",
       "      <th>Region</th>\n",
       "      <th>mimosa</th>\n",
       "    </tr>\n",
       "  </thead>\n",
       "  <tbody>\n",
       "    <tr>\n",
       "      <th>0</th>\n",
       "      <td>Nevada</td>\n",
       "      <td>100</td>\n",
       "    </tr>\n",
       "    <tr>\n",
       "      <th>1</th>\n",
       "      <td>District of Columbia</td>\n",
       "      <td>84</td>\n",
       "    </tr>\n",
       "    <tr>\n",
       "      <th>2</th>\n",
       "      <td>Colorado</td>\n",
       "      <td>76</td>\n",
       "    </tr>\n",
       "  </tbody>\n",
       "</table>\n",
       "</div>"
      ],
      "text/plain": [
       "                 Region  mimosa\n",
       "0                Nevada     100\n",
       "1  District of Columbia      84\n",
       "2              Colorado      76"
      ]
     },
     "execution_count": 117,
     "metadata": {},
     "output_type": "execute_result"
    }
   ],
   "source": [
    "mimosa_g = mimosa_g.dropna()\n",
    "mimosa_g.head(3)"
   ]
  },
  {
   "cell_type": "markdown",
   "id": "996dc625",
   "metadata": {},
   "source": [
    "## Rosé all Day"
   ]
  },
  {
   "cell_type": "code",
   "execution_count": 40,
   "id": "63199123",
   "metadata": {},
   "outputs": [
    {
     "data": {
      "text/plain": [
       "3002"
      ]
     },
     "execution_count": 40,
     "metadata": {},
     "output_type": "execute_result"
    }
   ],
   "source": [
    "rose_count = rose['rose'].sum()\n",
    "rose_count"
   ]
  },
  {
   "cell_type": "code",
   "execution_count": 118,
   "id": "d9461142",
   "metadata": {},
   "outputs": [
    {
     "data": {
      "text/html": [
       "<div>\n",
       "<style scoped>\n",
       "    .dataframe tbody tr th:only-of-type {\n",
       "        vertical-align: middle;\n",
       "    }\n",
       "\n",
       "    .dataframe tbody tr th {\n",
       "        vertical-align: top;\n",
       "    }\n",
       "\n",
       "    .dataframe thead th {\n",
       "        text-align: right;\n",
       "    }\n",
       "</style>\n",
       "<table border=\"1\" class=\"dataframe\">\n",
       "  <thead>\n",
       "    <tr style=\"text-align: right;\">\n",
       "      <th></th>\n",
       "      <th>Region</th>\n",
       "      <th>rose</th>\n",
       "    </tr>\n",
       "  </thead>\n",
       "  <tbody>\n",
       "    <tr>\n",
       "      <th>0</th>\n",
       "      <td>District of Columbia</td>\n",
       "      <td>100</td>\n",
       "    </tr>\n",
       "    <tr>\n",
       "      <th>1</th>\n",
       "      <td>New York</td>\n",
       "      <td>66</td>\n",
       "    </tr>\n",
       "    <tr>\n",
       "      <th>2</th>\n",
       "      <td>New Jersey</td>\n",
       "      <td>61</td>\n",
       "    </tr>\n",
       "  </tbody>\n",
       "</table>\n",
       "</div>"
      ],
      "text/plain": [
       "                 Region  rose\n",
       "0  District of Columbia   100\n",
       "1              New York    66\n",
       "2            New Jersey    61"
      ]
     },
     "execution_count": 118,
     "metadata": {},
     "output_type": "execute_result"
    }
   ],
   "source": [
    "rose_g = rose_g.dropna()\n",
    "rose_g.head(3)"
   ]
  },
  {
   "cell_type": "markdown",
   "id": "3eebb757",
   "metadata": {},
   "source": [
    "## Hurricane"
   ]
  },
  {
   "cell_type": "code",
   "execution_count": 42,
   "id": "71279256",
   "metadata": {},
   "outputs": [
    {
     "data": {
      "text/plain": [
       "1835"
      ]
     },
     "execution_count": 42,
     "metadata": {},
     "output_type": "execute_result"
    }
   ],
   "source": [
    "hurricane_count = hurricane['hurricane'].sum()\n",
    "hurricane_count"
   ]
  },
  {
   "cell_type": "code",
   "execution_count": 119,
   "id": "09549ab3",
   "metadata": {},
   "outputs": [
    {
     "data": {
      "text/html": [
       "<div>\n",
       "<style scoped>\n",
       "    .dataframe tbody tr th:only-of-type {\n",
       "        vertical-align: middle;\n",
       "    }\n",
       "\n",
       "    .dataframe tbody tr th {\n",
       "        vertical-align: top;\n",
       "    }\n",
       "\n",
       "    .dataframe thead th {\n",
       "        text-align: right;\n",
       "    }\n",
       "</style>\n",
       "<table border=\"1\" class=\"dataframe\">\n",
       "  <thead>\n",
       "    <tr style=\"text-align: right;\">\n",
       "      <th></th>\n",
       "      <th>Region</th>\n",
       "      <th>Hurricane</th>\n",
       "    </tr>\n",
       "  </thead>\n",
       "  <tbody>\n",
       "    <tr>\n",
       "      <th>0</th>\n",
       "      <td>Louisiana</td>\n",
       "      <td>100</td>\n",
       "    </tr>\n",
       "    <tr>\n",
       "      <th>1</th>\n",
       "      <td>Florida</td>\n",
       "      <td>39</td>\n",
       "    </tr>\n",
       "    <tr>\n",
       "      <th>2</th>\n",
       "      <td>Mississippi</td>\n",
       "      <td>35</td>\n",
       "    </tr>\n",
       "  </tbody>\n",
       "</table>\n",
       "</div>"
      ],
      "text/plain": [
       "        Region  Hurricane\n",
       "0    Louisiana        100\n",
       "1      Florida         39\n",
       "2  Mississippi         35"
      ]
     },
     "execution_count": 119,
     "metadata": {},
     "output_type": "execute_result"
    }
   ],
   "source": [
    "hurricane_g = hurricane_g.dropna()\n",
    "hurricane_g.head(3)"
   ]
  },
  {
   "cell_type": "markdown",
   "id": "18b0448d",
   "metadata": {},
   "source": [
    " "
   ]
  },
  {
   "cell_type": "markdown",
   "id": "5e94249e",
   "metadata": {},
   "source": [
    "# All Cocktails"
   ]
  },
  {
   "cell_type": "code",
   "execution_count": 153,
   "id": "f08bd7c8",
   "metadata": {},
   "outputs": [],
   "source": [
    "cocktail_data = [\n",
    "    [\"Appletini\", apple_count, appletini_g.iat[0,0],appletini_g.iat[1,0],appletini_g.iat[2,0]],\n",
    "    [\"Mango Margarita\", mango_m_count, mango_m_g.iat[0,0],mango_m_g.iat[1,0],mango_m_g.iat[2,0]],\n",
    "    [\"Watermelon Margarita\", water_m_count, water_m_g.iat[0,0],water_m_g.iat[1,0],water_m_g.iat[2,0]],\n",
    "    [\"Pina Colada\", pina_count, pina_g.iat[0,0],pina_g.iat[1,0],pina_g.iat[2,0]],\n",
    "    [\"Cosmo\", cosmo_count, cosmo_g.iat[0,0],cosmo_g.iat[1,0],cosmo_g.iat[2,0]],\n",
    "    [\"Strawberry Daiquiri\", straw_d_count, straw_d_g.iat[0,0],straw_d_g.iat[1,0],straw_d_g.iat[2,0]],\n",
    "    [\"Blue Hawaiian\", blue_h_count, blue_h_g.iat[0,0],blue_h_g.iat[1,0],blue_h_g.iat[2,0]],\n",
    "    [\"Sea Breeze\", sea_b_count, sea_b_g.iat[0,0],sea_b_g.iat[1,0],sea_b_g.iat[2,0]],\n",
    "    [\"Sex on the Beach\", sob_count, sob_g.iat[0,0],sob_g.iat[1,0],sob_g.iat[2,0]],\n",
    "    [\"Peach Bellini\", peach_b_count, peach_b_g.iat[0,0],peach_b_g.iat[1,0],peach_b_g.iat[2,0]],\n",
    "    [\"Mimosa\", mimosa_count, mimosa_g.iat[0,0],mimosa_g.iat[1,0],mimosa_g.iat[2,0]],\n",
    "    [\"Rose All Day\", rose_count, rose_g.iat[0,0],rose_g.iat[1,0],rose_g.iat[2,0]],\n",
    "    [\"Hurricane\", hurricane_count, hurricane_g.iat[0,0],hurricane_g.iat[1,0],hurricane_g.iat[2,0]]\n",
    "]"
   ]
  },
  {
   "cell_type": "code",
   "execution_count": 154,
   "id": "322c219d",
   "metadata": {},
   "outputs": [],
   "source": [
    "totals_df = pd.DataFrame(cocktail_data, columns=['Cocktail Gummy','Count','Most Popular State','Second','Third'])"
   ]
  },
  {
   "cell_type": "code",
   "execution_count": 155,
   "id": "3ede5778",
   "metadata": {},
   "outputs": [],
   "source": [
    "totals_df = totals_df.sort_values(by=['Count'], ascending=False)"
   ]
  },
  {
   "cell_type": "markdown",
   "id": "f34f7a44",
   "metadata": {},
   "source": [
    " "
   ]
  },
  {
   "cell_type": "markdown",
   "id": "484a1c78",
   "metadata": {},
   "source": [
    "# Arizona Migration Data"
   ]
  },
  {
   "cell_type": "code",
   "execution_count": 234,
   "id": "ea3f63df",
   "metadata": {},
   "outputs": [],
   "source": [
    "census = census[census['From'].str.contains(\"California|Arizona\")==False]\n",
    "census = census.sort_values(by=['To Arizona'], ascending=False)"
   ]
  },
  {
   "cell_type": "code",
   "execution_count": 237,
   "id": "85b9c188",
   "metadata": {},
   "outputs": [
    {
     "data": {
      "text/html": [
       "<div>\n",
       "<style scoped>\n",
       "    .dataframe tbody tr th:only-of-type {\n",
       "        vertical-align: middle;\n",
       "    }\n",
       "\n",
       "    .dataframe tbody tr th {\n",
       "        vertical-align: top;\n",
       "    }\n",
       "\n",
       "    .dataframe thead th {\n",
       "        text-align: right;\n",
       "    }\n",
       "</style>\n",
       "<table border=\"1\" class=\"dataframe\">\n",
       "  <thead>\n",
       "    <tr style=\"text-align: right;\">\n",
       "      <th></th>\n",
       "      <th>From</th>\n",
       "      <th>To Arizona</th>\n",
       "    </tr>\n",
       "  </thead>\n",
       "  <tbody>\n",
       "    <tr>\n",
       "      <th>47</th>\n",
       "      <td>Washington</td>\n",
       "      <td>16331.0</td>\n",
       "    </tr>\n",
       "    <tr>\n",
       "      <th>43</th>\n",
       "      <td>Texas</td>\n",
       "      <td>15531.0</td>\n",
       "    </tr>\n",
       "    <tr>\n",
       "      <th>5</th>\n",
       "      <td>Colorado</td>\n",
       "      <td>13040.0</td>\n",
       "    </tr>\n",
       "    <tr>\n",
       "      <th>13</th>\n",
       "      <td>Illinois</td>\n",
       "      <td>12154.0</td>\n",
       "    </tr>\n",
       "    <tr>\n",
       "      <th>37</th>\n",
       "      <td>Oregon</td>\n",
       "      <td>9895.0</td>\n",
       "    </tr>\n",
       "    <tr>\n",
       "      <th>44</th>\n",
       "      <td>Utah</td>\n",
       "      <td>9029.0</td>\n",
       "    </tr>\n",
       "    <tr>\n",
       "      <th>31</th>\n",
       "      <td>New Mexico</td>\n",
       "      <td>8193.0</td>\n",
       "    </tr>\n",
       "    <tr>\n",
       "      <th>9</th>\n",
       "      <td>Florida</td>\n",
       "      <td>8004.0</td>\n",
       "    </tr>\n",
       "    <tr>\n",
       "      <th>23</th>\n",
       "      <td>Minnesota</td>\n",
       "      <td>6978.0</td>\n",
       "    </tr>\n",
       "    <tr>\n",
       "      <th>28</th>\n",
       "      <td>Nevada</td>\n",
       "      <td>6904.0</td>\n",
       "    </tr>\n",
       "  </tbody>\n",
       "</table>\n",
       "</div>"
      ],
      "text/plain": [
       "          From  To Arizona\n",
       "47  Washington     16331.0\n",
       "43       Texas     15531.0\n",
       "5     Colorado     13040.0\n",
       "13   Illinois      12154.0\n",
       "37      Oregon      9895.0\n",
       "44        Utah      9029.0\n",
       "31  New Mexico      8193.0\n",
       "9      Florida      8004.0\n",
       "23   Minnesota      6978.0\n",
       "28      Nevada      6904.0"
      ]
     },
     "execution_count": 237,
     "metadata": {},
     "output_type": "execute_result"
    }
   ],
   "source": [
    "# census = census.drop(columns=['To Phoenix', 'To Tucson'])\n",
    "\n",
    "census.head(10)"
   ]
  },
  {
   "cell_type": "markdown",
   "id": "cee3fbd7",
   "metadata": {},
   "source": [
    "### Most Searched State of Origin"
   ]
  },
  {
   "cell_type": "code",
   "execution_count": 238,
   "id": "3b170cd3",
   "metadata": {},
   "outputs": [
    {
     "data": {
      "text/html": [
       "<div>\n",
       "<style scoped>\n",
       "    .dataframe tbody tr th:only-of-type {\n",
       "        vertical-align: middle;\n",
       "    }\n",
       "\n",
       "    .dataframe tbody tr th {\n",
       "        vertical-align: top;\n",
       "    }\n",
       "\n",
       "    .dataframe thead th {\n",
       "        text-align: right;\n",
       "    }\n",
       "</style>\n",
       "<table border=\"1\" class=\"dataframe\">\n",
       "  <thead>\n",
       "    <tr style=\"text-align: right;\">\n",
       "      <th></th>\n",
       "      <th>states</th>\n",
       "      <th>counts</th>\n",
       "    </tr>\n",
       "  </thead>\n",
       "  <tbody>\n",
       "    <tr>\n",
       "      <th>0</th>\n",
       "      <td>Nevada</td>\n",
       "      <td>2</td>\n",
       "    </tr>\n",
       "    <tr>\n",
       "      <th>1</th>\n",
       "      <td>Hawaii</td>\n",
       "      <td>2</td>\n",
       "    </tr>\n",
       "    <tr>\n",
       "      <th>2</th>\n",
       "      <td>District of Columbia</td>\n",
       "      <td>2</td>\n",
       "    </tr>\n",
       "    <tr>\n",
       "      <th>3</th>\n",
       "      <td>Maine</td>\n",
       "      <td>2</td>\n",
       "    </tr>\n",
       "    <tr>\n",
       "      <th>4</th>\n",
       "      <td>Washington</td>\n",
       "      <td>1</td>\n",
       "    </tr>\n",
       "    <tr>\n",
       "      <th>5</th>\n",
       "      <td>Louisiana</td>\n",
       "      <td>1</td>\n",
       "    </tr>\n",
       "    <tr>\n",
       "      <th>6</th>\n",
       "      <td>Rhode Island</td>\n",
       "      <td>1</td>\n",
       "    </tr>\n",
       "    <tr>\n",
       "      <th>7</th>\n",
       "      <td>Arizona</td>\n",
       "      <td>1</td>\n",
       "    </tr>\n",
       "    <tr>\n",
       "      <th>8</th>\n",
       "      <td>South Dakota</td>\n",
       "      <td>1</td>\n",
       "    </tr>\n",
       "  </tbody>\n",
       "</table>\n",
       "</div>"
      ],
      "text/plain": [
       "                 states  counts\n",
       "0                Nevada       2\n",
       "1                Hawaii       2\n",
       "2  District of Columbia       2\n",
       "3                 Maine       2\n",
       "4            Washington       1\n",
       "5             Louisiana       1\n",
       "6          Rhode Island       1\n",
       "7               Arizona       1\n",
       "8          South Dakota       1"
      ]
     },
     "execution_count": 238,
     "metadata": {},
     "output_type": "execute_result"
    }
   ],
   "source": [
    "most_pop = totals_df['Most Popular State'].value_counts()\n",
    "\n",
    "most_pop = most_pop.reset_index()\n",
    "most_pop.columns = ['states', 'counts']\n",
    "most_pop"
   ]
  },
  {
   "cell_type": "markdown",
   "id": "4081f8df",
   "metadata": {},
   "source": [
    "### Second Searched State of Origin"
   ]
  },
  {
   "cell_type": "code",
   "execution_count": 239,
   "id": "033939fb",
   "metadata": {},
   "outputs": [
    {
     "data": {
      "text/html": [
       "<div>\n",
       "<style scoped>\n",
       "    .dataframe tbody tr th:only-of-type {\n",
       "        vertical-align: middle;\n",
       "    }\n",
       "\n",
       "    .dataframe tbody tr th {\n",
       "        vertical-align: top;\n",
       "    }\n",
       "\n",
       "    .dataframe thead th {\n",
       "        text-align: right;\n",
       "    }\n",
       "</style>\n",
       "<table border=\"1\" class=\"dataframe\">\n",
       "  <thead>\n",
       "    <tr style=\"text-align: right;\">\n",
       "      <th></th>\n",
       "      <th>states</th>\n",
       "      <th>counts</th>\n",
       "    </tr>\n",
       "  </thead>\n",
       "  <tbody>\n",
       "    <tr>\n",
       "      <th>0</th>\n",
       "      <td>Florida</td>\n",
       "      <td>3</td>\n",
       "    </tr>\n",
       "    <tr>\n",
       "      <th>1</th>\n",
       "      <td>District of Columbia</td>\n",
       "      <td>3</td>\n",
       "    </tr>\n",
       "    <tr>\n",
       "      <th>2</th>\n",
       "      <td>Rhode Island</td>\n",
       "      <td>2</td>\n",
       "    </tr>\n",
       "    <tr>\n",
       "      <th>3</th>\n",
       "      <td>Nevada</td>\n",
       "      <td>1</td>\n",
       "    </tr>\n",
       "    <tr>\n",
       "      <th>4</th>\n",
       "      <td>West Virginia</td>\n",
       "      <td>1</td>\n",
       "    </tr>\n",
       "    <tr>\n",
       "      <th>5</th>\n",
       "      <td>Wyoming</td>\n",
       "      <td>1</td>\n",
       "    </tr>\n",
       "    <tr>\n",
       "      <th>6</th>\n",
       "      <td>Hawaii</td>\n",
       "      <td>1</td>\n",
       "    </tr>\n",
       "    <tr>\n",
       "      <th>7</th>\n",
       "      <td>New York</td>\n",
       "      <td>1</td>\n",
       "    </tr>\n",
       "  </tbody>\n",
       "</table>\n",
       "</div>"
      ],
      "text/plain": [
       "                 states  counts\n",
       "0               Florida       3\n",
       "1  District of Columbia       3\n",
       "2          Rhode Island       2\n",
       "3                Nevada       1\n",
       "4         West Virginia       1\n",
       "5               Wyoming       1\n",
       "6                Hawaii       1\n",
       "7              New York       1"
      ]
     },
     "execution_count": 239,
     "metadata": {},
     "output_type": "execute_result"
    }
   ],
   "source": [
    "second_pop = totals_df['Second'].value_counts()\n",
    "\n",
    "second_pop = second_pop.reset_index()\n",
    "second_pop.columns = ['states', 'counts']\n",
    "second_pop"
   ]
  },
  {
   "cell_type": "markdown",
   "id": "c844a2e3",
   "metadata": {},
   "source": [
    "### Third Searched State of Origin"
   ]
  },
  {
   "cell_type": "code",
   "execution_count": 241,
   "id": "d5743b47",
   "metadata": {},
   "outputs": [
    {
     "data": {
      "text/html": [
       "<div>\n",
       "<style scoped>\n",
       "    .dataframe tbody tr th:only-of-type {\n",
       "        vertical-align: middle;\n",
       "    }\n",
       "\n",
       "    .dataframe tbody tr th {\n",
       "        vertical-align: top;\n",
       "    }\n",
       "\n",
       "    .dataframe thead th {\n",
       "        text-align: right;\n",
       "    }\n",
       "</style>\n",
       "<table border=\"1\" class=\"dataframe\">\n",
       "  <thead>\n",
       "    <tr style=\"text-align: right;\">\n",
       "      <th></th>\n",
       "      <th>states</th>\n",
       "      <th>counts</th>\n",
       "    </tr>\n",
       "  </thead>\n",
       "  <tbody>\n",
       "    <tr>\n",
       "      <th>0</th>\n",
       "      <td>Mississippi</td>\n",
       "      <td>2</td>\n",
       "    </tr>\n",
       "    <tr>\n",
       "      <th>1</th>\n",
       "      <td>Nevada</td>\n",
       "      <td>1</td>\n",
       "    </tr>\n",
       "    <tr>\n",
       "      <th>2</th>\n",
       "      <td>Minnesota</td>\n",
       "      <td>1</td>\n",
       "    </tr>\n",
       "    <tr>\n",
       "      <th>3</th>\n",
       "      <td>Colorado</td>\n",
       "      <td>1</td>\n",
       "    </tr>\n",
       "    <tr>\n",
       "      <th>4</th>\n",
       "      <td>Utah</td>\n",
       "      <td>1</td>\n",
       "    </tr>\n",
       "    <tr>\n",
       "      <th>5</th>\n",
       "      <td>New Hampshire</td>\n",
       "      <td>1</td>\n",
       "    </tr>\n",
       "    <tr>\n",
       "      <th>6</th>\n",
       "      <td>New Jersey</td>\n",
       "      <td>1</td>\n",
       "    </tr>\n",
       "    <tr>\n",
       "      <th>7</th>\n",
       "      <td>New York</td>\n",
       "      <td>1</td>\n",
       "    </tr>\n",
       "    <tr>\n",
       "      <th>8</th>\n",
       "      <td>District of Columbia</td>\n",
       "      <td>1</td>\n",
       "    </tr>\n",
       "    <tr>\n",
       "      <th>9</th>\n",
       "      <td>North Dakota</td>\n",
       "      <td>1</td>\n",
       "    </tr>\n",
       "    <tr>\n",
       "      <th>10</th>\n",
       "      <td>Arkansas</td>\n",
       "      <td>1</td>\n",
       "    </tr>\n",
       "    <tr>\n",
       "      <th>11</th>\n",
       "      <td>Maine</td>\n",
       "      <td>1</td>\n",
       "    </tr>\n",
       "  </tbody>\n",
       "</table>\n",
       "</div>"
      ],
      "text/plain": [
       "                  states  counts\n",
       "0            Mississippi       2\n",
       "1                 Nevada       1\n",
       "2              Minnesota       1\n",
       "3               Colorado       1\n",
       "4                   Utah       1\n",
       "5          New Hampshire       1\n",
       "6             New Jersey       1\n",
       "7               New York       1\n",
       "8   District of Columbia       1\n",
       "9           North Dakota       1\n",
       "10              Arkansas       1\n",
       "11                 Maine       1"
      ]
     },
     "execution_count": 241,
     "metadata": {},
     "output_type": "execute_result"
    }
   ],
   "source": [
    "third_pop = totals_df['Third'].value_counts()\n",
    "\n",
    "third_pop = third_pop.reset_index()\n",
    "third_pop.columns = ['states', 'counts']\n",
    "third_pop"
   ]
  },
  {
   "cell_type": "code",
   "execution_count": 307,
   "id": "d9855052",
   "metadata": {},
   "outputs": [],
   "source": [
    "frames = [most_pop, second_pop, third_pop]\n",
    "\n",
    "overall = pd.concat(frames)\n",
    "overall = overall.groupby(['states']).sum()\n",
    "overall = overall.sort_values(by=['counts'], ascending=False)\n",
    "overall = overall.reset_index()\n",
    "overall.columns = ['State', 'Count of Popularity (1-3)']"
   ]
  },
  {
   "cell_type": "code",
   "execution_count": 312,
   "id": "48b07ec4",
   "metadata": {},
   "outputs": [
    {
     "data": {
      "text/html": [
       "<div>\n",
       "<style scoped>\n",
       "    .dataframe tbody tr th:only-of-type {\n",
       "        vertical-align: middle;\n",
       "    }\n",
       "\n",
       "    .dataframe tbody tr th {\n",
       "        vertical-align: top;\n",
       "    }\n",
       "\n",
       "    .dataframe thead th {\n",
       "        text-align: right;\n",
       "    }\n",
       "</style>\n",
       "<table border=\"1\" class=\"dataframe\">\n",
       "  <thead>\n",
       "    <tr style=\"text-align: right;\">\n",
       "      <th></th>\n",
       "      <th>State</th>\n",
       "      <th>Count of Popularity (1-3)</th>\n",
       "    </tr>\n",
       "  </thead>\n",
       "  <tbody>\n",
       "    <tr>\n",
       "      <th>0</th>\n",
       "      <td>District of Columbia</td>\n",
       "      <td>6</td>\n",
       "    </tr>\n",
       "    <tr>\n",
       "      <th>1</th>\n",
       "      <td>Nevada</td>\n",
       "      <td>4</td>\n",
       "    </tr>\n",
       "    <tr>\n",
       "      <th>2</th>\n",
       "      <td>Florida</td>\n",
       "      <td>3</td>\n",
       "    </tr>\n",
       "    <tr>\n",
       "      <th>3</th>\n",
       "      <td>Hawaii</td>\n",
       "      <td>3</td>\n",
       "    </tr>\n",
       "    <tr>\n",
       "      <th>4</th>\n",
       "      <td>Maine</td>\n",
       "      <td>3</td>\n",
       "    </tr>\n",
       "  </tbody>\n",
       "</table>\n",
       "</div>"
      ],
      "text/plain": [
       "                  State  Count of Popularity (1-3)\n",
       "0  District of Columbia                          6\n",
       "1                Nevada                          4\n",
       "2               Florida                          3\n",
       "3                Hawaii                          3\n",
       "4                 Maine                          3"
      ]
     },
     "execution_count": 312,
     "metadata": {},
     "output_type": "execute_result"
    }
   ],
   "source": [
    "overall.head(5)"
   ]
  },
  {
   "cell_type": "code",
   "execution_count": 299,
   "id": "58cc2b52",
   "metadata": {},
   "outputs": [],
   "source": []
  },
  {
   "cell_type": "code",
   "execution_count": 301,
   "id": "84033e18",
   "metadata": {},
   "outputs": [],
   "source": []
  },
  {
   "cell_type": "markdown",
   "id": "78543d6f",
   "metadata": {},
   "source": [
    "# Graphs & Visuals"
   ]
  },
  {
   "cell_type": "code",
   "execution_count": 175,
   "id": "b868e285",
   "metadata": {
    "scrolled": false
   },
   "outputs": [
    {
     "data": {
      "text/plain": [
       "Text(0.5, 1.0, 'Frequency of Cocktail Searched on Google (12mo)')"
      ]
     },
     "execution_count": 175,
     "metadata": {},
     "output_type": "execute_result"
    },
    {
     "data": {
      "image/png": "[encoded data removed]",
      "text/plain": [
       "<Figure size 432x288 with 1 Axes>"
      ]
     },
     "metadata": {
      "needs_background": "light"
     },
     "output_type": "display_data"
    }
   ],
   "source": [
    "totals_df.plot(x='Cocktail Gummy', y='Count', kind='bar')\n",
    "plt.xlabel('Cocktail')\n",
    "plt.ylabel('Total Searches')\n",
    "plt.title('Frequency of Cocktail Searched on Google (12mo)')"
   ]
  },
  {
   "cell_type": "code",
   "execution_count": 168,
   "id": "66683033",
   "metadata": {},
   "outputs": [
    {
     "data": {
      "text/plain": [
       "Text(0.5, 1.0, '2015-2019 Census Data of AZ Migration')"
      ]
     },
     "execution_count": 168,
     "metadata": {},
     "output_type": "execute_result"
    },
    {
     "data": {
      "image/png": "[encoded data removed]",
      "text/plain": [
       "<Figure size 432x288 with 1 Axes>"
      ]
     },
     "metadata": {
      "needs_background": "light"
     },
     "output_type": "display_data"
    }
   ],
   "source": [
    "census.head(10).plot(x='From', y='To Arizona', kind='bar')\n",
    "plt.xlabel('Prior State of Residence')\n",
    "plt.ylabel('Number of people moved')\n",
    "plt.title('2015-2019 Census Data of AZ Migration')"
   ]
  },
  {
   "cell_type": "code",
   "execution_count": 310,
   "id": "f37c3af0",
   "metadata": {},
   "outputs": [
    {
     "data": {
      "text/html": [
       "<div>\n",
       "<style scoped>\n",
       "    .dataframe tbody tr th:only-of-type {\n",
       "        vertical-align: middle;\n",
       "    }\n",
       "\n",
       "    .dataframe tbody tr th {\n",
       "        vertical-align: top;\n",
       "    }\n",
       "\n",
       "    .dataframe thead th {\n",
       "        text-align: right;\n",
       "    }\n",
       "</style>\n",
       "<table border=\"1\" class=\"dataframe\">\n",
       "  <thead>\n",
       "    <tr style=\"text-align: right;\">\n",
       "      <th></th>\n",
       "      <th>Cocktail Gummy</th>\n",
       "      <th>Count</th>\n",
       "      <th>Most Popular State</th>\n",
       "      <th>Second</th>\n",
       "      <th>Third</th>\n",
       "    </tr>\n",
       "  </thead>\n",
       "  <tbody>\n",
       "    <tr>\n",
       "      <th>8</th>\n",
       "      <td>Sex on the Beach</td>\n",
       "      <td>4056</td>\n",
       "      <td>South Dakota</td>\n",
       "      <td>Wyoming</td>\n",
       "      <td>North Dakota</td>\n",
       "    </tr>\n",
       "    <tr>\n",
       "      <th>4</th>\n",
       "      <td>Cosmo</td>\n",
       "      <td>4019</td>\n",
       "      <td>Nevada</td>\n",
       "      <td>Rhode Island</td>\n",
       "      <td>District of Columbia</td>\n",
       "    </tr>\n",
       "    <tr>\n",
       "      <th>9</th>\n",
       "      <td>Peach Bellini</td>\n",
       "      <td>3819</td>\n",
       "      <td>Rhode Island</td>\n",
       "      <td>District of Columbia</td>\n",
       "      <td>New York</td>\n",
       "    </tr>\n",
       "    <tr>\n",
       "      <th>10</th>\n",
       "      <td>Mimosa</td>\n",
       "      <td>3546</td>\n",
       "      <td>Nevada</td>\n",
       "      <td>District of Columbia</td>\n",
       "      <td>Colorado</td>\n",
       "    </tr>\n",
       "    <tr>\n",
       "      <th>0</th>\n",
       "      <td>Appletini</td>\n",
       "      <td>3380</td>\n",
       "      <td>Washington</td>\n",
       "      <td>District of Columbia</td>\n",
       "      <td>Minnesota</td>\n",
       "    </tr>\n",
       "    <tr>\n",
       "      <th>6</th>\n",
       "      <td>Blue Hawaiian</td>\n",
       "      <td>3316</td>\n",
       "      <td>Hawaii</td>\n",
       "      <td>Nevada</td>\n",
       "      <td>New Hampshire</td>\n",
       "    </tr>\n",
       "    <tr>\n",
       "      <th>11</th>\n",
       "      <td>Rose All Day</td>\n",
       "      <td>3002</td>\n",
       "      <td>District of Columbia</td>\n",
       "      <td>New York</td>\n",
       "      <td>New Jersey</td>\n",
       "    </tr>\n",
       "    <tr>\n",
       "      <th>7</th>\n",
       "      <td>Sea Breeze</td>\n",
       "      <td>2707</td>\n",
       "      <td>Maine</td>\n",
       "      <td>Hawaii</td>\n",
       "      <td>Nevada</td>\n",
       "    </tr>\n",
       "    <tr>\n",
       "      <th>5</th>\n",
       "      <td>Strawberry Daiquiri</td>\n",
       "      <td>2550</td>\n",
       "      <td>Maine</td>\n",
       "      <td>West Virginia</td>\n",
       "      <td>Mississippi</td>\n",
       "    </tr>\n",
       "    <tr>\n",
       "      <th>3</th>\n",
       "      <td>Pina Colada</td>\n",
       "      <td>2498</td>\n",
       "      <td>Hawaii</td>\n",
       "      <td>Florida</td>\n",
       "      <td>Utah</td>\n",
       "    </tr>\n",
       "    <tr>\n",
       "      <th>12</th>\n",
       "      <td>Hurricane</td>\n",
       "      <td>1835</td>\n",
       "      <td>Louisiana</td>\n",
       "      <td>Florida</td>\n",
       "      <td>Mississippi</td>\n",
       "    </tr>\n",
       "    <tr>\n",
       "      <th>1</th>\n",
       "      <td>Mango Margarita</td>\n",
       "      <td>1720</td>\n",
       "      <td>Arizona</td>\n",
       "      <td>Florida</td>\n",
       "      <td>Arkansas</td>\n",
       "    </tr>\n",
       "    <tr>\n",
       "      <th>2</th>\n",
       "      <td>Watermelon Margarita</td>\n",
       "      <td>999</td>\n",
       "      <td>District of Columbia</td>\n",
       "      <td>Rhode Island</td>\n",
       "      <td>Maine</td>\n",
       "    </tr>\n",
       "  </tbody>\n",
       "</table>\n",
       "</div>"
      ],
      "text/plain": [
       "          Cocktail Gummy  Count    Most Popular State                Second  \\\n",
       "8       Sex on the Beach   4056          South Dakota               Wyoming   \n",
       "4                  Cosmo   4019                Nevada          Rhode Island   \n",
       "9          Peach Bellini   3819          Rhode Island  District of Columbia   \n",
       "10                Mimosa   3546                Nevada  District of Columbia   \n",
       "0              Appletini   3380            Washington  District of Columbia   \n",
       "6          Blue Hawaiian   3316                Hawaii                Nevada   \n",
       "11          Rose All Day   3002  District of Columbia              New York   \n",
       "7             Sea Breeze   2707                 Maine                Hawaii   \n",
       "5    Strawberry Daiquiri   2550                 Maine         West Virginia   \n",
       "3            Pina Colada   2498                Hawaii               Florida   \n",
       "12             Hurricane   1835             Louisiana               Florida   \n",
       "1        Mango Margarita   1720               Arizona               Florida   \n",
       "2   Watermelon Margarita    999  District of Columbia          Rhode Island   \n",
       "\n",
       "                   Third  \n",
       "8           North Dakota  \n",
       "4   District of Columbia  \n",
       "9               New York  \n",
       "10              Colorado  \n",
       "0              Minnesota  \n",
       "6          New Hampshire  \n",
       "11            New Jersey  \n",
       "7                 Nevada  \n",
       "5            Mississippi  \n",
       "3                   Utah  \n",
       "12           Mississippi  \n",
       "1               Arkansas  \n",
       "2                  Maine  "
      ]
     },
     "execution_count": 310,
     "metadata": {},
     "output_type": "execute_result"
    }
   ],
   "source": [
    "totals_df"
   ]
  },
  {
   "cell_type": "code",
   "execution_count": null,
   "id": "e711c9d7",
   "metadata": {},
   "outputs": [],
   "source": []
  },
  {
   "cell_type": "code",
   "execution_count": null,
   "id": "7048aa2c",
   "metadata": {},
   "outputs": [],
   "source": []
  },
  {
   "cell_type": "code",
   "execution_count": null,
   "id": "d2a287e4",
   "metadata": {},
   "outputs": [],
   "source": []
  },
  {
   "cell_type": "code",
   "execution_count": null,
   "id": "d9e63107",
   "metadata": {},
   "outputs": [],
   "source": []
  },
  {
   "cell_type": "code",
   "execution_count": null,
   "id": "47804506",
   "metadata": {},
   "outputs": [],
   "source": []
  }
 ],
 "metadata": {
  "kernelspec": {
   "display_name": "Python 3",
   "language": "python",
   "name": "python3"
  },
  "language_info": {
   "codemirror_mode": {
    "name": "ipython",
    "version": 3
   },
   "file_extension": ".py",
   "mimetype": "text/x-python",
   "name": "python",
   "nbconvert_exporter": "python",
   "pygments_lexer": "ipython3",
   "version": "3.8.8"
  }
 },
 "nbformat": 4,
 "nbformat_minor": 5
}
